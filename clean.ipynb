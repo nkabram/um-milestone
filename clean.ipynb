{
 "cells": [
  {
   "cell_type": "code",
   "execution_count": 1,
   "id": "1361f846-62fe-43a3-8dfd-d38846ac4c58",
   "metadata": {
    "tags": []
   },
   "outputs": [
    {
     "ename": "NameError",
     "evalue": "name 'temp_df' is not defined",
     "output_type": "error",
     "traceback": [
      "\u001b[0;31m---------------------------------------------------------------------------\u001b[0m",
      "\u001b[0;31mNameError\u001b[0m                                 Traceback (most recent call last)",
      "\u001b[1;32m/Users/osasigbinidun/Documents/Milestone2/um-milestone/clean.ipynb Cell 1\u001b[0m line \u001b[0;36m1\n\u001b[0;32m----> <a href='vscode-notebook-cell:/Users/osasigbinidun/Documents/Milestone2/um-milestone/clean.ipynb#W0sZmlsZQ%3D%3D?line=0'>1</a>\u001b[0m temp_df\n",
      "\u001b[0;31mNameError\u001b[0m: name 'temp_df' is not defined"
     ]
    }
   ],
   "source": [
    "temp_df"
   ]
  },
  {
   "cell_type": "markdown",
   "id": "c8bac002-8d39-421a-8051-97e862938501",
   "metadata": {},
   "source": [
    "We hypothesize that the missing values might be systematically absent or unavailable for specific time periods. To delve deeper into this, we'll employ the Altair visualization library to plot the frequency of these missing values and identify potential concentrations. Given the extensive range of years in this dataset, we've opted to group them into bins for a clearer visualization. Grouping the data in 10-year intervals strikes a balance between granularity and clarity, enabling us to pinpoint where values may be absent."
   ]
  },
  {
   "cell_type": "code",
   "execution_count": null,
   "id": "b5fbfa3d-2ca4-405c-acbb-c6fc9cea2f29",
   "metadata": {
    "tags": []
   },
   "outputs": [
    {
     "data": {
      "text/html": [
       "\n",
       "<style>\n",
       "  #altair-viz-ebe00bed2db34c548a0d514e8ef3632f.vega-embed {\n",
       "    width: 100%;\n",
       "    display: flex;\n",
       "  }\n",
       "\n",
       "  #altair-viz-ebe00bed2db34c548a0d514e8ef3632f.vega-embed details,\n",
       "  #altair-viz-ebe00bed2db34c548a0d514e8ef3632f.vega-embed details summary {\n",
       "    position: relative;\n",
       "  }\n",
       "</style>\n",
       "<div id=\"altair-viz-ebe00bed2db34c548a0d514e8ef3632f\"></div>\n",
       "<script type=\"text/javascript\">\n",
       "  var VEGA_DEBUG = (typeof VEGA_DEBUG == \"undefined\") ? {} : VEGA_DEBUG;\n",
       "  (function(spec, embedOpt){\n",
       "    let outputDiv = document.currentScript.previousElementSibling;\n",
       "    if (outputDiv.id !== \"altair-viz-ebe00bed2db34c548a0d514e8ef3632f\") {\n",
       "      outputDiv = document.getElementById(\"altair-viz-ebe00bed2db34c548a0d514e8ef3632f\");\n",
       "    }\n",
       "    const paths = {\n",
       "      \"vega\": \"https://cdn.jsdelivr.net/npm/vega@5?noext\",\n",
       "      \"vega-lib\": \"https://cdn.jsdelivr.net/npm/vega-lib?noext\",\n",
       "      \"vega-lite\": \"https://cdn.jsdelivr.net/npm/vega-lite@5.8.0?noext\",\n",
       "      \"vega-embed\": \"https://cdn.jsdelivr.net/npm/vega-embed@6?noext\",\n",
       "    };\n",
       "\n",
       "    function maybeLoadScript(lib, version) {\n",
       "      var key = `${lib.replace(\"-\", \"\")}_version`;\n",
       "      return (VEGA_DEBUG[key] == version) ?\n",
       "        Promise.resolve(paths[lib]) :\n",
       "        new Promise(function(resolve, reject) {\n",
       "          var s = document.createElement('script');\n",
       "          document.getElementsByTagName(\"head\")[0].appendChild(s);\n",
       "          s.async = true;\n",
       "          s.onload = () => {\n",
       "            VEGA_DEBUG[key] = version;\n",
       "            return resolve(paths[lib]);\n",
       "          };\n",
       "          s.onerror = () => reject(`Error loading script: ${paths[lib]}`);\n",
       "          s.src = paths[lib];\n",
       "        });\n",
       "    }\n",
       "\n",
       "    function showError(err) {\n",
       "      outputDiv.innerHTML = `<div class=\"error\" style=\"color:red;\">${err}</div>`;\n",
       "      throw err;\n",
       "    }\n",
       "\n",
       "    function displayChart(vegaEmbed) {\n",
       "      vegaEmbed(outputDiv, spec, embedOpt)\n",
       "        .catch(err => showError(`Javascript Error: ${err.message}<br>This usually means there's a typo in your chart specification. See the javascript console for the full traceback.`));\n",
       "    }\n",
       "\n",
       "    if(typeof define === \"function\" && define.amd) {\n",
       "      requirejs.config({paths});\n",
       "      require([\"vega-embed\"], displayChart, err => showError(`Error loading script: ${err.message}`));\n",
       "    } else {\n",
       "      maybeLoadScript(\"vega\", \"5\")\n",
       "        .then(() => maybeLoadScript(\"vega-lite\", \"5.8.0\"))\n",
       "        .then(() => maybeLoadScript(\"vega-embed\", \"6\"))\n",
       "        .catch(showError)\n",
       "        .then(() => displayChart(vegaEmbed));\n",
       "    }\n",
       "  })({\"config\": {\"view\": {\"continuousWidth\": 300, \"continuousHeight\": 300}}, \"data\": {\"name\": \"data-523bf91649ac9daed70d1da22108991e\"}, \"mark\": {\"type\": \"bar\"}, \"encoding\": {\"tooltip\": [{\"field\": \"Year_Bin\", \"type\": \"ordinal\"}, {\"field\": \"Missing_Proportion\", \"type\": \"quantitative\"}], \"x\": {\"axis\": {\"labelAngle\": -45}, \"field\": \"Year_Bin\", \"title\": \"Year Bin\", \"type\": \"ordinal\"}, \"y\": {\"field\": \"Missing_Proportion\", \"title\": \"Average Proportion of Missing Values\", \"type\": \"quantitative\"}}, \"height\": 400, \"title\": \"Average Proportion of Missing Values by Year Bin in Temperature Dataset\", \"width\": 600, \"$schema\": \"https://vega.github.io/schema/vega-lite/v5.8.0.json\", \"datasets\": {\"data-523bf91649ac9daed70d1da22108991e\": [{\"Year_Bin\": \"1743-1752\", \"Missing_Proportion\": 0.4151898734177215}, {\"Year_Bin\": \"1753-1762\", \"Missing_Proportion\": 0.017817371937639197}, {\"Year_Bin\": \"1763-1772\", \"Missing_Proportion\": 0.06526315789473684}, {\"Year_Bin\": \"1773-1782\", \"Missing_Proportion\": 0.06389452332657201}, {\"Year_Bin\": \"1783-1792\", \"Missing_Proportion\": 0.07490272373540856}, {\"Year_Bin\": \"1793-1802\", \"Missing_Proportion\": 0.07809983896940419}, {\"Year_Bin\": \"1803-1812\", \"Missing_Proportion\": 0.16406829992576094}, {\"Year_Bin\": \"1813-1822\", \"Missing_Proportion\": 0.03337696335078534}, {\"Year_Bin\": \"1823-1832\", \"Missing_Proportion\": 0.12777777777777777}, {\"Year_Bin\": \"1833-1842\", \"Missing_Proportion\": 0.10324232081911262}, {\"Year_Bin\": \"1843-1852\", \"Missing_Proportion\": 0.08269364968597348}, {\"Year_Bin\": \"1853-1862\", \"Missing_Proportion\": 0.0872321159070329}, {\"Year_Bin\": \"1863-1872\", \"Missing_Proportion\": 0.1444866920152091}, {\"Year_Bin\": \"1873-1882\", \"Missing_Proportion\": 0.02335766423357664}, {\"Year_Bin\": \"1883-1892\", \"Missing_Proportion\": 0.010724637681159421}, {\"Year_Bin\": \"1893-1902\", \"Missing_Proportion\": 0.0}, {\"Year_Bin\": \"1903-1912\", \"Missing_Proportion\": 0.0}, {\"Year_Bin\": \"1913-1922\", \"Missing_Proportion\": 0.0}, {\"Year_Bin\": \"1923-1932\", \"Missing_Proportion\": 0.0}, {\"Year_Bin\": \"1933-1942\", \"Missing_Proportion\": 0.0}, {\"Year_Bin\": \"1943-1952\", \"Missing_Proportion\": 0.0}, {\"Year_Bin\": \"1953-1962\", \"Missing_Proportion\": 0.0}, {\"Year_Bin\": \"1963-1972\", \"Missing_Proportion\": 0.0}, {\"Year_Bin\": \"1973-1982\", \"Missing_Proportion\": 0.0}, {\"Year_Bin\": \"1983-1992\", \"Missing_Proportion\": 0.0}, {\"Year_Bin\": \"1993-2002\", \"Missing_Proportion\": 0.0}, {\"Year_Bin\": \"2003-2012\", \"Missing_Proportion\": 0.0}]}}, {\"mode\": \"vega-lite\"});\n",
       "</script>"
      ],
      "text/plain": [
       "alt.Chart(...)"
      ]
     },
     "execution_count": 15,
     "metadata": {},
     "output_type": "execute_result"
    }
   ],
   "source": [
    "bin_size = 10\n",
    "min_year_temp = temp_df[\"Year\"].min()\n",
    "max_year_temp = temp_df[\"Year\"].max()\n",
    "bins_temp = list(range(int(min_year_temp), int(max_year_temp) + bin_size, bin_size))\n",
    "\n",
    "bin_labels_temp = [f\"{i}-{i + bin_size - 1}\" for i in bins_temp[:-1]]\n",
    "temp_df[\"Year_Bin\"] = pd.cut(temp_df[\"Year\"], bins=bins_temp, labels=bin_labels_temp, right=False)\n",
    "temp_missing_by_bin = temp_df.groupby(\"Year_Bin\", observed=True)[\"Average_Temperature\"].apply(lambda x: x.isnull().mean())\n",
    "\n",
    "temp_missing_df = temp_missing_by_bin.reset_index()\n",
    "temp_missing_df.columns = ['Year_Bin', 'Missing_Proportion']\n",
    "\n",
    "temp_chart = alt.Chart(temp_missing_df).mark_bar().encode(\n",
    "    x=alt.X('Year_Bin:O', title='Year Bin', axis=alt.Axis(labelAngle=-45)),\n",
    "    y=alt.Y('Missing_Proportion:Q', title='Average Proportion of Missing Values'),\n",
    "    tooltip=['Year_Bin', 'Missing_Proportion']\n",
    ").properties(\n",
    "    title='Average Proportion of Missing Values by Year Bin in Temperature Dataset',\n",
    "    width=600,\n",
    "    height=400\n",
    ")\n",
    "\n",
    "temp_chart"
   ]
  },
  {
   "cell_type": "code",
   "execution_count": null,
   "id": "839c685d-0cd9-4752-ac44-cfa63529f193",
   "metadata": {},
   "outputs": [
    {
     "data": {
      "text/plain": [
       "0"
      ]
     },
     "execution_count": 125,
     "metadata": {},
     "output_type": "execute_result"
    }
   ],
   "source": [
    "missing_data = temp_df[temp_df.isnull().any(axis=1)]\n",
    "latest_year_with_missing = missing_data['Year'].max()\n",
    "temp_df[temp_df[\"Year\"] >= 1900]['Average_Temperature'].isnull().sum()"
   ]
  },
  {
   "cell_type": "code",
   "execution_count": null,
   "id": "99f1397c-880b-4a0a-9782-d22d24e43214",
   "metadata": {
    "tags": []
   },
   "outputs": [],
   "source": [
    "temp_df = temp_df[temp_df[\"Year\"] >= 1900]"
   ]
  },
  {
   "cell_type": "code",
   "execution_count": null,
   "id": "4a9576dc-c401-4a48-8399-3e1b4ca4f574",
   "metadata": {
    "tags": []
   },
   "outputs": [
    {
     "data": {
      "text/plain": [
       "Year                   0\n",
       "Country                0\n",
       "Average_Temperature    0\n",
       "dtype: int64"
      ]
     },
     "execution_count": 36,
     "metadata": {},
     "output_type": "execute_result"
    }
   ],
   "source": [
    "temp_df[temp_df[\"Year\"] >= 1900].isnull().sum()"
   ]
  },
  {
   "cell_type": "markdown",
   "id": "6af08fc0-4e99-43d7-b9b2-67f50159f0d6",
   "metadata": {},
   "source": [
    "We can see that"
   ]
  },
  {
   "cell_type": "markdown",
   "id": "45b21790-f4f7-4a64-98c8-31d398ede72f",
   "metadata": {},
   "source": [
    "# Rainfall missing values"
   ]
  },
  {
   "cell_type": "code",
   "execution_count": null,
   "id": "7540a70e-d5ed-45ff-9772-22a63f51c438",
   "metadata": {},
   "outputs": [
    {
     "data": {
      "text/html": [
       "\n",
       "<style>\n",
       "  #altair-viz-5ff82399090f4902ac4d56af5309d1b6.vega-embed {\n",
       "    width: 100%;\n",
       "    display: flex;\n",
       "  }\n",
       "\n",
       "  #altair-viz-5ff82399090f4902ac4d56af5309d1b6.vega-embed details,\n",
       "  #altair-viz-5ff82399090f4902ac4d56af5309d1b6.vega-embed details summary {\n",
       "    position: relative;\n",
       "  }\n",
       "</style>\n",
       "<div id=\"altair-viz-5ff82399090f4902ac4d56af5309d1b6\"></div>\n",
       "<script type=\"text/javascript\">\n",
       "  var VEGA_DEBUG = (typeof VEGA_DEBUG == \"undefined\") ? {} : VEGA_DEBUG;\n",
       "  (function(spec, embedOpt){\n",
       "    let outputDiv = document.currentScript.previousElementSibling;\n",
       "    if (outputDiv.id !== \"altair-viz-5ff82399090f4902ac4d56af5309d1b6\") {\n",
       "      outputDiv = document.getElementById(\"altair-viz-5ff82399090f4902ac4d56af5309d1b6\");\n",
       "    }\n",
       "    const paths = {\n",
       "      \"vega\": \"https://cdn.jsdelivr.net/npm/vega@5?noext\",\n",
       "      \"vega-lib\": \"https://cdn.jsdelivr.net/npm/vega-lib?noext\",\n",
       "      \"vega-lite\": \"https://cdn.jsdelivr.net/npm/vega-lite@5.14.1?noext\",\n",
       "      \"vega-embed\": \"https://cdn.jsdelivr.net/npm/vega-embed@6?noext\",\n",
       "    };\n",
       "\n",
       "    function maybeLoadScript(lib, version) {\n",
       "      var key = `${lib.replace(\"-\", \"\")}_version`;\n",
       "      return (VEGA_DEBUG[key] == version) ?\n",
       "        Promise.resolve(paths[lib]) :\n",
       "        new Promise(function(resolve, reject) {\n",
       "          var s = document.createElement('script');\n",
       "          document.getElementsByTagName(\"head\")[0].appendChild(s);\n",
       "          s.async = true;\n",
       "          s.onload = () => {\n",
       "            VEGA_DEBUG[key] = version;\n",
       "            return resolve(paths[lib]);\n",
       "          };\n",
       "          s.onerror = () => reject(`Error loading script: ${paths[lib]}`);\n",
       "          s.src = paths[lib];\n",
       "        });\n",
       "    }\n",
       "\n",
       "    function showError(err) {\n",
       "      outputDiv.innerHTML = `<div class=\"error\" style=\"color:red;\">${err}</div>`;\n",
       "      throw err;\n",
       "    }\n",
       "\n",
       "    function displayChart(vegaEmbed) {\n",
       "      vegaEmbed(outputDiv, spec, embedOpt)\n",
       "        .catch(err => showError(`Javascript Error: ${err.message}<br>This usually means there's a typo in your chart specification. See the javascript console for the full traceback.`));\n",
       "    }\n",
       "\n",
       "    if(typeof define === \"function\" && define.amd) {\n",
       "      requirejs.config({paths});\n",
       "      require([\"vega-embed\"], displayChart, err => showError(`Error loading script: ${err.message}`));\n",
       "    } else {\n",
       "      maybeLoadScript(\"vega\", \"5\")\n",
       "        .then(() => maybeLoadScript(\"vega-lite\", \"5.14.1\"))\n",
       "        .then(() => maybeLoadScript(\"vega-embed\", \"6\"))\n",
       "        .catch(showError)\n",
       "        .then(() => displayChart(vegaEmbed));\n",
       "    }\n",
       "  })({\"config\": {\"view\": {\"continuousWidth\": 300, \"continuousHeight\": 300}}, \"data\": {\"name\": \"data-d1e2114fbe89d70cda8679df16f36cf5\"}, \"mark\": {\"type\": \"bar\"}, \"encoding\": {\"tooltip\": [{\"field\": \"Year\", \"type\": \"quantitative\"}, {\"field\": \"Missing_Proportion\", \"type\": \"quantitative\"}], \"x\": {\"axis\": {\"labelAngle\": -45}, \"field\": \"Year\", \"title\": \"Year\", \"type\": \"ordinal\"}, \"y\": {\"field\": \"Missing_Proportion\", \"title\": \"Average Proportion of Missing Values\", \"type\": \"quantitative\"}}, \"height\": 400, \"title\": \"Average Proportion of Missing Values by Year in Rainfall Dataset\", \"width\": 600, \"$schema\": \"https://vega.github.io/schema/vega-lite/v5.14.1.json\", \"datasets\": {\"data-d1e2114fbe89d70cda8679df16f36cf5\": [{\"Year\": 1985, \"Missing_Proportion\": 0.11059907834101383}, {\"Year\": 1986, \"Missing_Proportion\": 0.1152073732718894}, {\"Year\": 1987, \"Missing_Proportion\": 0.1152073732718894}, {\"Year\": 1989, \"Missing_Proportion\": 0.1152073732718894}, {\"Year\": 1990, \"Missing_Proportion\": 0.1152073732718894}, {\"Year\": 1991, \"Missing_Proportion\": 0.1152073732718894}, {\"Year\": 1992, \"Missing_Proportion\": 0.1152073732718894}, {\"Year\": 1993, \"Missing_Proportion\": 0.1152073732718894}, {\"Year\": 1994, \"Missing_Proportion\": 0.1152073732718894}, {\"Year\": 1995, \"Missing_Proportion\": 0.1152073732718894}, {\"Year\": 1996, \"Missing_Proportion\": 0.1152073732718894}, {\"Year\": 1997, \"Missing_Proportion\": 0.1152073732718894}, {\"Year\": 1998, \"Missing_Proportion\": 0.1152073732718894}, {\"Year\": 1999, \"Missing_Proportion\": 0.1152073732718894}, {\"Year\": 2000, \"Missing_Proportion\": 0.1152073732718894}, {\"Year\": 2001, \"Missing_Proportion\": 0.1152073732718894}, {\"Year\": 2002, \"Missing_Proportion\": 0.1152073732718894}, {\"Year\": 2004, \"Missing_Proportion\": 0.1152073732718894}, {\"Year\": 2005, \"Missing_Proportion\": 0.1152073732718894}, {\"Year\": 2006, \"Missing_Proportion\": 0.1152073732718894}, {\"Year\": 2007, \"Missing_Proportion\": 0.1152073732718894}, {\"Year\": 2008, \"Missing_Proportion\": 0.1152073732718894}, {\"Year\": 2009, \"Missing_Proportion\": 0.1152073732718894}, {\"Year\": 2010, \"Missing_Proportion\": 0.1152073732718894}, {\"Year\": 2011, \"Missing_Proportion\": 0.1152073732718894}, {\"Year\": 2012, \"Missing_Proportion\": 0.1152073732718894}, {\"Year\": 2013, \"Missing_Proportion\": 0.1152073732718894}, {\"Year\": 2014, \"Missing_Proportion\": 0.1152073732718894}, {\"Year\": 2015, \"Missing_Proportion\": 0.1152073732718894}, {\"Year\": 2016, \"Missing_Proportion\": 0.1152073732718894}, {\"Year\": 2017, \"Missing_Proportion\": 0.1152073732718894}]}}, {\"mode\": \"vega-lite\"});\n",
       "</script>"
      ],
      "text/plain": [
       "alt.Chart(...)"
      ]
     },
     "execution_count": 155,
     "metadata": {},
     "output_type": "execute_result"
    }
   ],
   "source": [
    "bin_size = 5\n",
    "min_year_rainfall = rain_df[\"Year\"].min()\n",
    "max_year_rainfall = rain_df[\"Year\"].max()\n",
    "bins_rainfall = list(range(int(min_year_rainfall), int(max_year_rainfall) + bin_size, bin_size))\n",
    "bin_labels_rainfall = [f\"{i}-{i + bin_size - 1}\" for i in bins_rainfall[:-1]]\n",
    "\n",
    "rain_df[\"Year_Bin\"] = pd.cut(rain_df[\"Year\"], bins=bins_rainfall, labels=bin_labels_rainfall, right=False)\n",
    "rainfall_missing_by_bin = rain_df.groupby(\"Year_Bin\")[\"Average_Rainfall\"].apply(lambda x: x.isnull().mean())\n",
    "\n",
    "rainfall_missing_by_year = rain_df.groupby(\"Year\")[\"Average_Rainfall\"].apply(lambda x: x.isnull().mean()).reset_index()\n",
    "rainfall_missing_by_year.columns = ['Year', 'Missing_Proportion']\n",
    "\n",
    "rainfall_chart = alt.Chart(rainfall_missing_by_year).mark_bar().encode(\n",
    "    x=alt.X('Year:O', title='Year', axis=alt.Axis(labelAngle=-45)),\n",
    "    y=alt.Y('Missing_Proportion:Q', title='Average Proportion of Missing Values'),\n",
    "    tooltip=['Year', 'Missing_Proportion']\n",
    ").properties(\n",
    "    title='Average Proportion of Missing Values by Year in Rainfall Dataset',\n",
    "    width=600,\n",
    "    height=400\n",
    ")\n",
    "\n",
    "rainfall_chart"
   ]
  },
  {
   "cell_type": "code",
   "execution_count": null,
   "id": "b604f611-e27e-4c71-9d2d-bc194ba1078b",
   "metadata": {},
   "outputs": [],
   "source": [
    "rainfall_missing_by_country = rain_df.groupby('Country')['Average_Rainfall'].apply(lambda x: x.isnull().sum()).reset_index()\n",
    "rainfall_missing_by_country.columns = ['Country', 'Missing_Count']"
   ]
  },
  {
   "cell_type": "code",
   "execution_count": null,
   "id": "0fbe3f3e-8512-4797-b85c-960ae6a91c2a",
   "metadata": {},
   "outputs": [
    {
     "data": {
      "text/html": [
       "<div>\n",
       "<style scoped>\n",
       "    .dataframe tbody tr th:only-of-type {\n",
       "        vertical-align: middle;\n",
       "    }\n",
       "\n",
       "    .dataframe tbody tr th {\n",
       "        vertical-align: top;\n",
       "    }\n",
       "\n",
       "    .dataframe thead th {\n",
       "        text-align: right;\n",
       "    }\n",
       "</style>\n",
       "<table border=\"1\" class=\"dataframe\">\n",
       "  <thead>\n",
       "    <tr style=\"text-align: right;\">\n",
       "      <th></th>\n",
       "      <th>Country</th>\n",
       "      <th>Missing_Count</th>\n",
       "    </tr>\n",
       "  </thead>\n",
       "  <tbody>\n",
       "    <tr>\n",
       "      <th>0</th>\n",
       "      <td>Afghanistan</td>\n",
       "      <td>0</td>\n",
       "    </tr>\n",
       "    <tr>\n",
       "      <th>1</th>\n",
       "      <td>Albania</td>\n",
       "      <td>0</td>\n",
       "    </tr>\n",
       "    <tr>\n",
       "      <th>2</th>\n",
       "      <td>Algeria</td>\n",
       "      <td>0</td>\n",
       "    </tr>\n",
       "    <tr>\n",
       "      <th>3</th>\n",
       "      <td>American Samoa</td>\n",
       "      <td>31</td>\n",
       "    </tr>\n",
       "    <tr>\n",
       "      <th>4</th>\n",
       "      <td>Andorra</td>\n",
       "      <td>0</td>\n",
       "    </tr>\n",
       "    <tr>\n",
       "      <th>...</th>\n",
       "      <td>...</td>\n",
       "      <td>...</td>\n",
       "    </tr>\n",
       "    <tr>\n",
       "      <th>212</th>\n",
       "      <td>Virgin Islands (U.S.)</td>\n",
       "      <td>31</td>\n",
       "    </tr>\n",
       "    <tr>\n",
       "      <th>213</th>\n",
       "      <td>West Bank and Gaza</td>\n",
       "      <td>0</td>\n",
       "    </tr>\n",
       "    <tr>\n",
       "      <th>214</th>\n",
       "      <td>Yemen</td>\n",
       "      <td>0</td>\n",
       "    </tr>\n",
       "    <tr>\n",
       "      <th>215</th>\n",
       "      <td>Zambia</td>\n",
       "      <td>0</td>\n",
       "    </tr>\n",
       "    <tr>\n",
       "      <th>216</th>\n",
       "      <td>Zimbabwe</td>\n",
       "      <td>0</td>\n",
       "    </tr>\n",
       "  </tbody>\n",
       "</table>\n",
       "<p>217 rows × 2 columns</p>\n",
       "</div>"
      ],
      "text/plain": [
       "                   Country  Missing_Count\n",
       "0              Afghanistan              0\n",
       "1                  Albania              0\n",
       "2                  Algeria              0\n",
       "3           American Samoa             31\n",
       "4                  Andorra              0\n",
       "..                     ...            ...\n",
       "212  Virgin Islands (U.S.)             31\n",
       "213     West Bank and Gaza              0\n",
       "214                  Yemen              0\n",
       "215                 Zambia              0\n",
       "216               Zimbabwe              0\n",
       "\n",
       "[217 rows x 2 columns]"
      ]
     },
     "execution_count": 152,
     "metadata": {},
     "output_type": "execute_result"
    }
   ],
   "source": [
    "rainfall_missing_by_country"
   ]
  },
  {
   "cell_type": "code",
   "execution_count": null,
   "id": "d37a3dee-a4b9-4f5f-aad6-a83a26cec051",
   "metadata": {},
   "outputs": [
    {
     "data": {
      "text/html": [
       "\n",
       "<style>\n",
       "  #altair-viz-dddab49858d3428cb83f08c4b76d6256.vega-embed {\n",
       "    width: 100%;\n",
       "    display: flex;\n",
       "  }\n",
       "\n",
       "  #altair-viz-dddab49858d3428cb83f08c4b76d6256.vega-embed details,\n",
       "  #altair-viz-dddab49858d3428cb83f08c4b76d6256.vega-embed details summary {\n",
       "    position: relative;\n",
       "  }\n",
       "</style>\n",
       "<div id=\"altair-viz-dddab49858d3428cb83f08c4b76d6256\"></div>\n",
       "<script type=\"text/javascript\">\n",
       "  var VEGA_DEBUG = (typeof VEGA_DEBUG == \"undefined\") ? {} : VEGA_DEBUG;\n",
       "  (function(spec, embedOpt){\n",
       "    let outputDiv = document.currentScript.previousElementSibling;\n",
       "    if (outputDiv.id !== \"altair-viz-dddab49858d3428cb83f08c4b76d6256\") {\n",
       "      outputDiv = document.getElementById(\"altair-viz-dddab49858d3428cb83f08c4b76d6256\");\n",
       "    }\n",
       "    const paths = {\n",
       "      \"vega\": \"https://cdn.jsdelivr.net/npm/vega@5?noext\",\n",
       "      \"vega-lib\": \"https://cdn.jsdelivr.net/npm/vega-lib?noext\",\n",
       "      \"vega-lite\": \"https://cdn.jsdelivr.net/npm/vega-lite@5.14.1?noext\",\n",
       "      \"vega-embed\": \"https://cdn.jsdelivr.net/npm/vega-embed@6?noext\",\n",
       "    };\n",
       "\n",
       "    function maybeLoadScript(lib, version) {\n",
       "      var key = `${lib.replace(\"-\", \"\")}_version`;\n",
       "      return (VEGA_DEBUG[key] == version) ?\n",
       "        Promise.resolve(paths[lib]) :\n",
       "        new Promise(function(resolve, reject) {\n",
       "          var s = document.createElement('script');\n",
       "          document.getElementsByTagName(\"head\")[0].appendChild(s);\n",
       "          s.async = true;\n",
       "          s.onload = () => {\n",
       "            VEGA_DEBUG[key] = version;\n",
       "            return resolve(paths[lib]);\n",
       "          };\n",
       "          s.onerror = () => reject(`Error loading script: ${paths[lib]}`);\n",
       "          s.src = paths[lib];\n",
       "        });\n",
       "    }\n",
       "\n",
       "    function showError(err) {\n",
       "      outputDiv.innerHTML = `<div class=\"error\" style=\"color:red;\">${err}</div>`;\n",
       "      throw err;\n",
       "    }\n",
       "\n",
       "    function displayChart(vegaEmbed) {\n",
       "      vegaEmbed(outputDiv, spec, embedOpt)\n",
       "        .catch(err => showError(`Javascript Error: ${err.message}<br>This usually means there's a typo in your chart specification. See the javascript console for the full traceback.`));\n",
       "    }\n",
       "\n",
       "    if(typeof define === \"function\" && define.amd) {\n",
       "      requirejs.config({paths});\n",
       "      require([\"vega-embed\"], displayChart, err => showError(`Error loading script: ${err.message}`));\n",
       "    } else {\n",
       "      maybeLoadScript(\"vega\", \"5\")\n",
       "        .then(() => maybeLoadScript(\"vega-lite\", \"5.14.1\"))\n",
       "        .then(() => maybeLoadScript(\"vega-embed\", \"6\"))\n",
       "        .catch(showError)\n",
       "        .then(() => displayChart(vegaEmbed));\n",
       "    }\n",
       "  })({\"config\": {\"view\": {\"continuousWidth\": 300, \"continuousHeight\": 300}}, \"data\": {\"name\": \"data-fd51481d366e69126edc1e13dc976ba7\"}, \"mark\": {\"type\": \"bar\"}, \"encoding\": {\"tooltip\": [{\"field\": \"Country\", \"type\": \"nominal\"}, {\"field\": \"Missing_Count\", \"type\": \"quantitative\"}], \"x\": {\"axis\": {\"labelAngle\": -45}, \"field\": \"Country\", \"title\": \"Country\", \"type\": \"ordinal\"}, \"y\": {\"field\": \"Missing_Count\", \"title\": \"Average Proportion of Missing Values\", \"type\": \"quantitative\"}}, \"height\": 400, \"title\": \"Number of Missing Values by Country in Rainfall Dataset\", \"width\": 600, \"$schema\": \"https://vega.github.io/schema/vega-lite/v5.14.1.json\", \"datasets\": {\"data-fd51481d366e69126edc1e13dc976ba7\": [{\"Country\": \"American Samoa\", \"Missing_Count\": 31}, {\"Country\": \"Aruba\", \"Missing_Count\": 31}, {\"Country\": \"Bermuda\", \"Missing_Count\": 31}, {\"Country\": \"British Virgin Islands\", \"Missing_Count\": 31}, {\"Country\": \"Cayman Islands\", \"Missing_Count\": 31}, {\"Country\": \"Channel Islands\", \"Missing_Count\": 31}, {\"Country\": \"Curacao\", \"Missing_Count\": 31}, {\"Country\": \"Faroe Islands\", \"Missing_Count\": 31}, {\"Country\": \"French Polynesia\", \"Missing_Count\": 31}, {\"Country\": \"Gibraltar\", \"Missing_Count\": 31}, {\"Country\": \"Greenland\", \"Missing_Count\": 31}, {\"Country\": \"Guam\", \"Missing_Count\": 31}, {\"Country\": \"Hong Kong SAR, China\", \"Missing_Count\": 31}, {\"Country\": \"Isle of Man\", \"Missing_Count\": 31}, {\"Country\": \"Kosovo\", \"Missing_Count\": 31}, {\"Country\": \"Macao SAR, China\", \"Missing_Count\": 31}, {\"Country\": \"Monaco\", \"Missing_Count\": 30}, {\"Country\": \"New Caledonia\", \"Missing_Count\": 31}, {\"Country\": \"Northern Mariana Islands\", \"Missing_Count\": 31}, {\"Country\": \"San Marino\", \"Missing_Count\": 31}, {\"Country\": \"Sint Maarten (Dutch part)\", \"Missing_Count\": 31}, {\"Country\": \"St. Martin (French part)\", \"Missing_Count\": 31}, {\"Country\": \"Tonga\", \"Missing_Count\": 31}, {\"Country\": \"Turks and Caicos Islands\", \"Missing_Count\": 31}, {\"Country\": \"Virgin Islands (U.S.)\", \"Missing_Count\": 31}]}}, {\"mode\": \"vega-lite\"});\n",
       "</script>"
      ],
      "text/plain": [
       "alt.Chart(...)"
      ]
     },
     "execution_count": 156,
     "metadata": {},
     "output_type": "execute_result"
    }
   ],
   "source": [
    "rainfall_missing_by_country = rainfall_missing_by_country[rainfall_missing_by_country[\"Missing_Count\"] > 0]\n",
    "\n",
    "rainfall_country_chart = alt.Chart(rainfall_missing_by_country).mark_bar().encode(\n",
    "    x=alt.X('Country:O', title='Country', axis=alt.Axis(labelAngle=-45)),\n",
    "    y=alt.Y('Missing_Count:Q', title='Average Proportion of Missing Values'),\n",
    "    tooltip=['Country', 'Missing_Count']\n",
    ").properties(\n",
    "    title='Number of Missing Values by Country in Rainfall Dataset',\n",
    "    width=600,\n",
    "    height=400\n",
    ")\n",
    "\n",
    "rainfall_country_chart"
   ]
  },
  {
   "cell_type": "code",
   "execution_count": null,
   "id": "7b713ec2-3d46-41c7-a48c-d36f2ccd56f5",
   "metadata": {
    "tags": []
   },
   "outputs": [
    {
     "data": {
      "text/plain": [
       "Country             217\n",
       "Year                 31\n",
       "Average_Rainfall    173\n",
       "dtype: int64"
      ]
     },
     "execution_count": 40,
     "metadata": {},
     "output_type": "execute_result"
    }
   ],
   "source": [
    "rain_df.nunique()"
   ]
  },
  {
   "cell_type": "code",
   "execution_count": null,
   "id": "83417ec9-00fe-4d8d-9a8c-c3d0ac50f87f",
   "metadata": {
    "tags": []
   },
   "outputs": [],
   "source": [
    "countries_with_missing_rainfall = rain_df[rain_df[\"Average_Rainfall\"].isnull()][\"Country\"].unique()"
   ]
  },
  {
   "cell_type": "code",
   "execution_count": null,
   "id": "98432554-3728-4f93-81eb-eeb1c41901cc",
   "metadata": {
    "tags": []
   },
   "outputs": [
    {
     "data": {
      "text/html": [
       "<div>\n",
       "<style scoped>\n",
       "    .dataframe tbody tr th:only-of-type {\n",
       "        vertical-align: middle;\n",
       "    }\n",
       "\n",
       "    .dataframe tbody tr th {\n",
       "        vertical-align: top;\n",
       "    }\n",
       "\n",
       "    .dataframe thead th {\n",
       "        text-align: right;\n",
       "    }\n",
       "</style>\n",
       "<table border=\"1\" class=\"dataframe\">\n",
       "  <thead>\n",
       "    <tr style=\"text-align: right;\">\n",
       "      <th></th>\n",
       "      <th>Country</th>\n",
       "      <th>Year</th>\n",
       "      <th>Pesticides</th>\n",
       "    </tr>\n",
       "  </thead>\n",
       "  <tbody>\n",
       "    <tr>\n",
       "      <th>426</th>\n",
       "      <td>Bermuda</td>\n",
       "      <td>1990</td>\n",
       "      <td>159.88</td>\n",
       "    </tr>\n",
       "    <tr>\n",
       "      <th>427</th>\n",
       "      <td>Bermuda</td>\n",
       "      <td>1991</td>\n",
       "      <td>159.88</td>\n",
       "    </tr>\n",
       "    <tr>\n",
       "      <th>428</th>\n",
       "      <td>Bermuda</td>\n",
       "      <td>1992</td>\n",
       "      <td>159.88</td>\n",
       "    </tr>\n",
       "    <tr>\n",
       "      <th>429</th>\n",
       "      <td>Bermuda</td>\n",
       "      <td>1993</td>\n",
       "      <td>159.88</td>\n",
       "    </tr>\n",
       "    <tr>\n",
       "      <th>430</th>\n",
       "      <td>Bermuda</td>\n",
       "      <td>1994</td>\n",
       "      <td>159.88</td>\n",
       "    </tr>\n",
       "    <tr>\n",
       "      <th>...</th>\n",
       "      <td>...</td>\n",
       "      <td>...</td>\n",
       "      <td>...</td>\n",
       "    </tr>\n",
       "    <tr>\n",
       "      <th>3912</th>\n",
       "      <td>Tonga</td>\n",
       "      <td>2012</td>\n",
       "      <td>11.21</td>\n",
       "    </tr>\n",
       "    <tr>\n",
       "      <th>3913</th>\n",
       "      <td>Tonga</td>\n",
       "      <td>2013</td>\n",
       "      <td>11.21</td>\n",
       "    </tr>\n",
       "    <tr>\n",
       "      <th>3914</th>\n",
       "      <td>Tonga</td>\n",
       "      <td>2014</td>\n",
       "      <td>15.09</td>\n",
       "    </tr>\n",
       "    <tr>\n",
       "      <th>3915</th>\n",
       "      <td>Tonga</td>\n",
       "      <td>2015</td>\n",
       "      <td>15.09</td>\n",
       "    </tr>\n",
       "    <tr>\n",
       "      <th>3916</th>\n",
       "      <td>Tonga</td>\n",
       "      <td>2016</td>\n",
       "      <td>15.09</td>\n",
       "    </tr>\n",
       "  </tbody>\n",
       "</table>\n",
       "<p>108 rows × 3 columns</p>\n",
       "</div>"
      ],
      "text/plain": [
       "      Country  Year  Pesticides\n",
       "426   Bermuda  1990      159.88\n",
       "427   Bermuda  1991      159.88\n",
       "428   Bermuda  1992      159.88\n",
       "429   Bermuda  1993      159.88\n",
       "430   Bermuda  1994      159.88\n",
       "...       ...   ...         ...\n",
       "3912    Tonga  2012       11.21\n",
       "3913    Tonga  2013       11.21\n",
       "3914    Tonga  2014       15.09\n",
       "3915    Tonga  2015       15.09\n",
       "3916    Tonga  2016       15.09\n",
       "\n",
       "[108 rows x 3 columns]"
      ]
     },
     "execution_count": 43,
     "metadata": {},
     "output_type": "execute_result"
    }
   ],
   "source": [
    "subset_pest_df = pest_df[pest_df[\"Country\"].isin(countries_with_missing_rainfall)]\n",
    "subset_pest_df"
   ]
  },
  {
   "cell_type": "code",
   "execution_count": null,
   "id": "41412e95-c821-4ed0-821c-2ef62a04af39",
   "metadata": {},
   "outputs": [
    {
     "name": "stdout",
     "output_type": "stream",
     "text": [
      "Shape of cleaned rainfall dataframe: (5952, 4)\n",
      "----------------------\n",
      "Missing values now\n",
      "Country             0\n",
      "Year                0\n",
      "Average_Rainfall    0\n",
      "Year_Bin            0\n",
      "dtype: int64\n"
     ]
    }
   ],
   "source": [
    "countries_with_missing_rainfall\n",
    "rain_df_cleaned = rain_df[~rain_df[\"Country\"].isin(countries_with_missing_rainfall)]\n",
    "\n",
    "print(f'Shape of cleaned rainfall dataframe: {rain_df_cleaned.shape}')\n",
    "print('----------------------')\n",
    "print('Missing values now')\n",
    "print(rain_df_cleaned.isnull().sum())"
   ]
  },
  {
   "cell_type": "code",
   "execution_count": null,
   "id": "288c701a-a9c4-4f50-bf55-0f65db4218cb",
   "metadata": {},
   "outputs": [
    {
     "data": {
      "text/markdown": [
       "\n",
       "## Remaining rows in cleaned rainfall dataframe: 5952\n",
       "\n",
       "---\n",
       "## Missing values now\n",
       "\n",
       "| Column       | Missing Values |\n",
       "|--------------|----------------|\n",
       "| Country |<center>0</center> |\n",
       "| Year |<center>0</center> |\n",
       "| Average Rainfall |<center>0</center> |\n",
       "| Year Bin |<center>0</center> |\n"
      ],
      "text/plain": [
       "<IPython.core.display.Markdown object>"
      ]
     },
     "metadata": {},
     "output_type": "display_data"
    }
   ],
   "source": [
    "md_text = f\"\"\"\n",
    "## Remaining rows in cleaned rainfall dataframe: {rain_df_cleaned.shape[0]}\n",
    "\n",
    "---\n",
    "## Missing values now\n",
    "\n",
    "| Column       | Missing Values |\n",
    "|--------------|----------------|\n",
    "\"\"\"\n",
    "for col, missing in rain_df_cleaned.isnull().sum().items():\n",
    "    md_text += f\"| {col.replace('_', ' ')} |<center>{missing}</center> |\\n\"\n",
    "\n",
    "display(Markdown(md_text))"
   ]
  },
  {
   "cell_type": "code",
   "execution_count": null,
   "id": "676478b0-529a-4878-b32d-ac73b98a9a04",
   "metadata": {
    "tags": []
   },
   "outputs": [
    {
     "data": {
      "text/plain": [
       "Country             object\n",
       "Year                 int64\n",
       "Average_Rainfall    object\n",
       "dtype: object"
      ]
     },
     "execution_count": 49,
     "metadata": {},
     "output_type": "execute_result"
    }
   ],
   "source": [
    "rain_df.dtypes"
   ]
  },
  {
   "cell_type": "code",
   "execution_count": null,
   "id": "3f4b28e1-31ce-4a63-aa2c-b53e508cb17a",
   "metadata": {
    "tags": []
   },
   "outputs": [
    {
     "data": {
      "text/html": [
       "<div>\n",
       "<style scoped>\n",
       "    .dataframe tbody tr th:only-of-type {\n",
       "        vertical-align: middle;\n",
       "    }\n",
       "\n",
       "    .dataframe tbody tr th {\n",
       "        vertical-align: top;\n",
       "    }\n",
       "\n",
       "    .dataframe thead th {\n",
       "        text-align: right;\n",
       "    }\n",
       "</style>\n",
       "<table border=\"1\" class=\"dataframe\">\n",
       "  <thead>\n",
       "    <tr style=\"text-align: right;\">\n",
       "      <th></th>\n",
       "      <th>Year</th>\n",
       "    </tr>\n",
       "  </thead>\n",
       "  <tbody>\n",
       "    <tr>\n",
       "      <th>count</th>\n",
       "      <td>6727.000000</td>\n",
       "    </tr>\n",
       "    <tr>\n",
       "      <th>mean</th>\n",
       "      <td>2001.354839</td>\n",
       "    </tr>\n",
       "    <tr>\n",
       "      <th>std</th>\n",
       "      <td>9.530114</td>\n",
       "    </tr>\n",
       "    <tr>\n",
       "      <th>min</th>\n",
       "      <td>1985.000000</td>\n",
       "    </tr>\n",
       "    <tr>\n",
       "      <th>25%</th>\n",
       "      <td>1993.000000</td>\n",
       "    </tr>\n",
       "    <tr>\n",
       "      <th>50%</th>\n",
       "      <td>2001.000000</td>\n",
       "    </tr>\n",
       "    <tr>\n",
       "      <th>75%</th>\n",
       "      <td>2010.000000</td>\n",
       "    </tr>\n",
       "    <tr>\n",
       "      <th>max</th>\n",
       "      <td>2017.000000</td>\n",
       "    </tr>\n",
       "  </tbody>\n",
       "</table>\n",
       "</div>"
      ],
      "text/plain": [
       "              Year\n",
       "count  6727.000000\n",
       "mean   2001.354839\n",
       "std       9.530114\n",
       "min    1985.000000\n",
       "25%    1993.000000\n",
       "50%    2001.000000\n",
       "75%    2010.000000\n",
       "max    2017.000000"
      ]
     },
     "execution_count": 50,
     "metadata": {},
     "output_type": "execute_result"
    }
   ],
   "source": [
    "rain_df.describe()"
   ]
  },
  {
   "cell_type": "code",
   "execution_count": null,
   "id": "6a046578-5396-4126-85c5-a9684831ebc2",
   "metadata": {
    "tags": []
   },
   "outputs": [
    {
     "ename": "ValueError",
     "evalue": "could not convert string to float: '..'",
     "output_type": "error",
     "traceback": [
      "\u001b[1;31m---------------------------------------------------------------------------\u001b[0m",
      "\u001b[1;31mValueError\u001b[0m                                Traceback (most recent call last)",
      "Cell \u001b[1;32mIn[51], line 1\u001b[0m\n\u001b[1;32m----> 1\u001b[0m rain_df[\u001b[38;5;124m'\u001b[39m\u001b[38;5;124mAverage_Rainfall\u001b[39m\u001b[38;5;124m'\u001b[39m] \u001b[38;5;241m=\u001b[39m \u001b[43mrain_df\u001b[49m\u001b[43m[\u001b[49m\u001b[38;5;124;43m'\u001b[39;49m\u001b[38;5;124;43mAverage_Rainfall\u001b[39;49m\u001b[38;5;124;43m'\u001b[39;49m\u001b[43m]\u001b[49m\u001b[38;5;241;43m.\u001b[39;49m\u001b[43mastype\u001b[49m\u001b[43m(\u001b[49m\u001b[38;5;28;43mfloat\u001b[39;49m\u001b[43m)\u001b[49m\n",
      "File \u001b[1;32m~\\anaconda3\\envs\\milestone\\lib\\site-packages\\pandas\\core\\generic.py:6324\u001b[0m, in \u001b[0;36mNDFrame.astype\u001b[1;34m(self, dtype, copy, errors)\u001b[0m\n\u001b[0;32m   6317\u001b[0m     results \u001b[38;5;241m=\u001b[39m [\n\u001b[0;32m   6318\u001b[0m         \u001b[38;5;28mself\u001b[39m\u001b[38;5;241m.\u001b[39miloc[:, i]\u001b[38;5;241m.\u001b[39mastype(dtype, copy\u001b[38;5;241m=\u001b[39mcopy)\n\u001b[0;32m   6319\u001b[0m         \u001b[38;5;28;01mfor\u001b[39;00m i \u001b[38;5;129;01min\u001b[39;00m \u001b[38;5;28mrange\u001b[39m(\u001b[38;5;28mlen\u001b[39m(\u001b[38;5;28mself\u001b[39m\u001b[38;5;241m.\u001b[39mcolumns))\n\u001b[0;32m   6320\u001b[0m     ]\n\u001b[0;32m   6322\u001b[0m \u001b[38;5;28;01melse\u001b[39;00m:\n\u001b[0;32m   6323\u001b[0m     \u001b[38;5;66;03m# else, only a single dtype is given\u001b[39;00m\n\u001b[1;32m-> 6324\u001b[0m     new_data \u001b[38;5;241m=\u001b[39m \u001b[38;5;28;43mself\u001b[39;49m\u001b[38;5;241;43m.\u001b[39;49m\u001b[43m_mgr\u001b[49m\u001b[38;5;241;43m.\u001b[39;49m\u001b[43mastype\u001b[49m\u001b[43m(\u001b[49m\u001b[43mdtype\u001b[49m\u001b[38;5;241;43m=\u001b[39;49m\u001b[43mdtype\u001b[49m\u001b[43m,\u001b[49m\u001b[43m \u001b[49m\u001b[43mcopy\u001b[49m\u001b[38;5;241;43m=\u001b[39;49m\u001b[43mcopy\u001b[49m\u001b[43m,\u001b[49m\u001b[43m \u001b[49m\u001b[43merrors\u001b[49m\u001b[38;5;241;43m=\u001b[39;49m\u001b[43merrors\u001b[49m\u001b[43m)\u001b[49m\n\u001b[0;32m   6325\u001b[0m     \u001b[38;5;28;01mreturn\u001b[39;00m \u001b[38;5;28mself\u001b[39m\u001b[38;5;241m.\u001b[39m_constructor(new_data)\u001b[38;5;241m.\u001b[39m__finalize__(\u001b[38;5;28mself\u001b[39m, method\u001b[38;5;241m=\u001b[39m\u001b[38;5;124m\"\u001b[39m\u001b[38;5;124mastype\u001b[39m\u001b[38;5;124m\"\u001b[39m)\n\u001b[0;32m   6327\u001b[0m \u001b[38;5;66;03m# GH 33113: handle empty frame or series\u001b[39;00m\n",
      "File \u001b[1;32m~\\anaconda3\\envs\\milestone\\lib\\site-packages\\pandas\\core\\internals\\managers.py:451\u001b[0m, in \u001b[0;36mBaseBlockManager.astype\u001b[1;34m(self, dtype, copy, errors)\u001b[0m\n\u001b[0;32m    448\u001b[0m \u001b[38;5;28;01melif\u001b[39;00m using_copy_on_write():\n\u001b[0;32m    449\u001b[0m     copy \u001b[38;5;241m=\u001b[39m \u001b[38;5;28;01mFalse\u001b[39;00m\n\u001b[1;32m--> 451\u001b[0m \u001b[38;5;28;01mreturn\u001b[39;00m \u001b[38;5;28;43mself\u001b[39;49m\u001b[38;5;241;43m.\u001b[39;49m\u001b[43mapply\u001b[49m\u001b[43m(\u001b[49m\n\u001b[0;32m    452\u001b[0m \u001b[43m    \u001b[49m\u001b[38;5;124;43m\"\u001b[39;49m\u001b[38;5;124;43mastype\u001b[39;49m\u001b[38;5;124;43m\"\u001b[39;49m\u001b[43m,\u001b[49m\n\u001b[0;32m    453\u001b[0m \u001b[43m    \u001b[49m\u001b[43mdtype\u001b[49m\u001b[38;5;241;43m=\u001b[39;49m\u001b[43mdtype\u001b[49m\u001b[43m,\u001b[49m\n\u001b[0;32m    454\u001b[0m \u001b[43m    \u001b[49m\u001b[43mcopy\u001b[49m\u001b[38;5;241;43m=\u001b[39;49m\u001b[43mcopy\u001b[49m\u001b[43m,\u001b[49m\n\u001b[0;32m    455\u001b[0m \u001b[43m    \u001b[49m\u001b[43merrors\u001b[49m\u001b[38;5;241;43m=\u001b[39;49m\u001b[43merrors\u001b[49m\u001b[43m,\u001b[49m\n\u001b[0;32m    456\u001b[0m \u001b[43m    \u001b[49m\u001b[43musing_cow\u001b[49m\u001b[38;5;241;43m=\u001b[39;49m\u001b[43musing_copy_on_write\u001b[49m\u001b[43m(\u001b[49m\u001b[43m)\u001b[49m\u001b[43m,\u001b[49m\n\u001b[0;32m    457\u001b[0m \u001b[43m\u001b[49m\u001b[43m)\u001b[49m\n",
      "File \u001b[1;32m~\\anaconda3\\envs\\milestone\\lib\\site-packages\\pandas\\core\\internals\\managers.py:352\u001b[0m, in \u001b[0;36mBaseBlockManager.apply\u001b[1;34m(self, f, align_keys, **kwargs)\u001b[0m\n\u001b[0;32m    350\u001b[0m         applied \u001b[38;5;241m=\u001b[39m b\u001b[38;5;241m.\u001b[39mapply(f, \u001b[38;5;241m*\u001b[39m\u001b[38;5;241m*\u001b[39mkwargs)\n\u001b[0;32m    351\u001b[0m     \u001b[38;5;28;01melse\u001b[39;00m:\n\u001b[1;32m--> 352\u001b[0m         applied \u001b[38;5;241m=\u001b[39m \u001b[38;5;28mgetattr\u001b[39m(b, f)(\u001b[38;5;241m*\u001b[39m\u001b[38;5;241m*\u001b[39mkwargs)\n\u001b[0;32m    353\u001b[0m     result_blocks \u001b[38;5;241m=\u001b[39m extend_blocks(applied, result_blocks)\n\u001b[0;32m    355\u001b[0m out \u001b[38;5;241m=\u001b[39m \u001b[38;5;28mtype\u001b[39m(\u001b[38;5;28mself\u001b[39m)\u001b[38;5;241m.\u001b[39mfrom_blocks(result_blocks, \u001b[38;5;28mself\u001b[39m\u001b[38;5;241m.\u001b[39maxes)\n",
      "File \u001b[1;32m~\\anaconda3\\envs\\milestone\\lib\\site-packages\\pandas\\core\\internals\\blocks.py:511\u001b[0m, in \u001b[0;36mBlock.astype\u001b[1;34m(self, dtype, copy, errors, using_cow)\u001b[0m\n\u001b[0;32m    491\u001b[0m \u001b[38;5;250m\u001b[39m\u001b[38;5;124;03m\"\"\"\u001b[39;00m\n\u001b[0;32m    492\u001b[0m \u001b[38;5;124;03mCoerce to the new dtype.\u001b[39;00m\n\u001b[0;32m    493\u001b[0m \n\u001b[1;32m   (...)\u001b[0m\n\u001b[0;32m    507\u001b[0m \u001b[38;5;124;03mBlock\u001b[39;00m\n\u001b[0;32m    508\u001b[0m \u001b[38;5;124;03m\"\"\"\u001b[39;00m\n\u001b[0;32m    509\u001b[0m values \u001b[38;5;241m=\u001b[39m \u001b[38;5;28mself\u001b[39m\u001b[38;5;241m.\u001b[39mvalues\n\u001b[1;32m--> 511\u001b[0m new_values \u001b[38;5;241m=\u001b[39m \u001b[43mastype_array_safe\u001b[49m\u001b[43m(\u001b[49m\u001b[43mvalues\u001b[49m\u001b[43m,\u001b[49m\u001b[43m \u001b[49m\u001b[43mdtype\u001b[49m\u001b[43m,\u001b[49m\u001b[43m \u001b[49m\u001b[43mcopy\u001b[49m\u001b[38;5;241;43m=\u001b[39;49m\u001b[43mcopy\u001b[49m\u001b[43m,\u001b[49m\u001b[43m \u001b[49m\u001b[43merrors\u001b[49m\u001b[38;5;241;43m=\u001b[39;49m\u001b[43merrors\u001b[49m\u001b[43m)\u001b[49m\n\u001b[0;32m    513\u001b[0m new_values \u001b[38;5;241m=\u001b[39m maybe_coerce_values(new_values)\n\u001b[0;32m    515\u001b[0m refs \u001b[38;5;241m=\u001b[39m \u001b[38;5;28;01mNone\u001b[39;00m\n",
      "File \u001b[1;32m~\\anaconda3\\envs\\milestone\\lib\\site-packages\\pandas\\core\\dtypes\\astype.py:242\u001b[0m, in \u001b[0;36mastype_array_safe\u001b[1;34m(values, dtype, copy, errors)\u001b[0m\n\u001b[0;32m    239\u001b[0m     dtype \u001b[38;5;241m=\u001b[39m dtype\u001b[38;5;241m.\u001b[39mnumpy_dtype\n\u001b[0;32m    241\u001b[0m \u001b[38;5;28;01mtry\u001b[39;00m:\n\u001b[1;32m--> 242\u001b[0m     new_values \u001b[38;5;241m=\u001b[39m \u001b[43mastype_array\u001b[49m\u001b[43m(\u001b[49m\u001b[43mvalues\u001b[49m\u001b[43m,\u001b[49m\u001b[43m \u001b[49m\u001b[43mdtype\u001b[49m\u001b[43m,\u001b[49m\u001b[43m \u001b[49m\u001b[43mcopy\u001b[49m\u001b[38;5;241;43m=\u001b[39;49m\u001b[43mcopy\u001b[49m\u001b[43m)\u001b[49m\n\u001b[0;32m    243\u001b[0m \u001b[38;5;28;01mexcept\u001b[39;00m (\u001b[38;5;167;01mValueError\u001b[39;00m, \u001b[38;5;167;01mTypeError\u001b[39;00m):\n\u001b[0;32m    244\u001b[0m     \u001b[38;5;66;03m# e.g. _astype_nansafe can fail on object-dtype of strings\u001b[39;00m\n\u001b[0;32m    245\u001b[0m     \u001b[38;5;66;03m#  trying to convert to float\u001b[39;00m\n\u001b[0;32m    246\u001b[0m     \u001b[38;5;28;01mif\u001b[39;00m errors \u001b[38;5;241m==\u001b[39m \u001b[38;5;124m\"\u001b[39m\u001b[38;5;124mignore\u001b[39m\u001b[38;5;124m\"\u001b[39m:\n",
      "File \u001b[1;32m~\\anaconda3\\envs\\milestone\\lib\\site-packages\\pandas\\core\\dtypes\\astype.py:187\u001b[0m, in \u001b[0;36mastype_array\u001b[1;34m(values, dtype, copy)\u001b[0m\n\u001b[0;32m    184\u001b[0m     values \u001b[38;5;241m=\u001b[39m values\u001b[38;5;241m.\u001b[39mastype(dtype, copy\u001b[38;5;241m=\u001b[39mcopy)\n\u001b[0;32m    186\u001b[0m \u001b[38;5;28;01melse\u001b[39;00m:\n\u001b[1;32m--> 187\u001b[0m     values \u001b[38;5;241m=\u001b[39m \u001b[43m_astype_nansafe\u001b[49m\u001b[43m(\u001b[49m\u001b[43mvalues\u001b[49m\u001b[43m,\u001b[49m\u001b[43m \u001b[49m\u001b[43mdtype\u001b[49m\u001b[43m,\u001b[49m\u001b[43m \u001b[49m\u001b[43mcopy\u001b[49m\u001b[38;5;241;43m=\u001b[39;49m\u001b[43mcopy\u001b[49m\u001b[43m)\u001b[49m\n\u001b[0;32m    189\u001b[0m \u001b[38;5;66;03m# in pandas we don't store numpy str dtypes, so convert to object\u001b[39;00m\n\u001b[0;32m    190\u001b[0m \u001b[38;5;28;01mif\u001b[39;00m \u001b[38;5;28misinstance\u001b[39m(dtype, np\u001b[38;5;241m.\u001b[39mdtype) \u001b[38;5;129;01mand\u001b[39;00m \u001b[38;5;28missubclass\u001b[39m(values\u001b[38;5;241m.\u001b[39mdtype\u001b[38;5;241m.\u001b[39mtype, \u001b[38;5;28mstr\u001b[39m):\n",
      "File \u001b[1;32m~\\anaconda3\\envs\\milestone\\lib\\site-packages\\pandas\\core\\dtypes\\astype.py:138\u001b[0m, in \u001b[0;36m_astype_nansafe\u001b[1;34m(arr, dtype, copy, skipna)\u001b[0m\n\u001b[0;32m    134\u001b[0m     \u001b[38;5;28;01mraise\u001b[39;00m \u001b[38;5;167;01mValueError\u001b[39;00m(msg)\n\u001b[0;32m    136\u001b[0m \u001b[38;5;28;01mif\u001b[39;00m copy \u001b[38;5;129;01mor\u001b[39;00m is_object_dtype(arr\u001b[38;5;241m.\u001b[39mdtype) \u001b[38;5;129;01mor\u001b[39;00m is_object_dtype(dtype):\n\u001b[0;32m    137\u001b[0m     \u001b[38;5;66;03m# Explicit copy, or required since NumPy can't view from / to object.\u001b[39;00m\n\u001b[1;32m--> 138\u001b[0m     \u001b[38;5;28;01mreturn\u001b[39;00m \u001b[43marr\u001b[49m\u001b[38;5;241;43m.\u001b[39;49m\u001b[43mastype\u001b[49m\u001b[43m(\u001b[49m\u001b[43mdtype\u001b[49m\u001b[43m,\u001b[49m\u001b[43m \u001b[49m\u001b[43mcopy\u001b[49m\u001b[38;5;241;43m=\u001b[39;49m\u001b[38;5;28;43;01mTrue\u001b[39;49;00m\u001b[43m)\u001b[49m\n\u001b[0;32m    140\u001b[0m \u001b[38;5;28;01mreturn\u001b[39;00m arr\u001b[38;5;241m.\u001b[39mastype(dtype, copy\u001b[38;5;241m=\u001b[39mcopy)\n",
      "\u001b[1;31mValueError\u001b[0m: could not convert string to float: '..'"
     ]
    }
   ],
   "source": [
    "rain_df['Average_Rainfall'] = rain_df['Average_Rainfall'].astype(float)"
   ]
  },
  {
   "cell_type": "code",
   "execution_count": null,
   "id": "a9b01db3-e4fa-4e09-b728-88dc561fbf04",
   "metadata": {
    "tags": []
   },
   "outputs": [
    {
     "data": {
      "text/plain": [
       "Average_Rainfall\n",
       "nan    774\n",
       "..       6\n",
       "Name: count, dtype: int64"
      ]
     },
     "execution_count": 52,
     "metadata": {},
     "output_type": "execute_result"
    }
   ],
   "source": [
    "rain_df['Average_Rainfall'] = rain_df['Average_Rainfall'].astype(str)\n",
    "non_numeric_rain = rain_df[~rain_df['Average_Rainfall'].str.isnumeric()]\n",
    "non_numeric_rain['Average_Rainfall'].value_counts()"
   ]
  },
  {
   "cell_type": "code",
   "execution_count": null,
   "id": "bb7e191d-45b7-420c-8ec5-b727f0aaefd3",
   "metadata": {
    "tags": []
   },
   "outputs": [
    {
     "data": {
      "text/html": [
       "<div>\n",
       "<style scoped>\n",
       "    .dataframe tbody tr th:only-of-type {\n",
       "        vertical-align: middle;\n",
       "    }\n",
       "\n",
       "    .dataframe tbody tr th {\n",
       "        vertical-align: top;\n",
       "    }\n",
       "\n",
       "    .dataframe thead th {\n",
       "        text-align: right;\n",
       "    }\n",
       "</style>\n",
       "<table border=\"1\" class=\"dataframe\">\n",
       "  <thead>\n",
       "    <tr style=\"text-align: right;\">\n",
       "      <th></th>\n",
       "      <th>Year</th>\n",
       "      <th>Country</th>\n",
       "      <th>Average_Temperature</th>\n",
       "    </tr>\n",
       "  </thead>\n",
       "  <tbody>\n",
       "    <tr>\n",
       "      <th>9750</th>\n",
       "      <td>1743</td>\n",
       "      <td>United Kingdom</td>\n",
       "      <td>7.07</td>\n",
       "    </tr>\n",
       "    <tr>\n",
       "      <th>13518</th>\n",
       "      <td>1743</td>\n",
       "      <td>United Kingdom</td>\n",
       "      <td>7.07</td>\n",
       "    </tr>\n",
       "    <tr>\n",
       "      <th>1908</th>\n",
       "      <td>1743</td>\n",
       "      <td>United States</td>\n",
       "      <td>5.34</td>\n",
       "    </tr>\n",
       "    <tr>\n",
       "      <th>3992</th>\n",
       "      <td>1743</td>\n",
       "      <td>United States</td>\n",
       "      <td>5.34</td>\n",
       "    </tr>\n",
       "    <tr>\n",
       "      <th>5742</th>\n",
       "      <td>1743</td>\n",
       "      <td>United States</td>\n",
       "      <td>5.34</td>\n",
       "    </tr>\n",
       "    <tr>\n",
       "      <th>15107</th>\n",
       "      <td>1743</td>\n",
       "      <td>United States</td>\n",
       "      <td>5.44</td>\n",
       "    </tr>\n",
       "    <tr>\n",
       "      <th>41741</th>\n",
       "      <td>1743</td>\n",
       "      <td>United States</td>\n",
       "      <td>5.44</td>\n",
       "    </tr>\n",
       "    <tr>\n",
       "      <th>68917</th>\n",
       "      <td>1743</td>\n",
       "      <td>United States</td>\n",
       "      <td>5.34</td>\n",
       "    </tr>\n",
       "    <tr>\n",
       "      <th>9751</th>\n",
       "      <td>1744</td>\n",
       "      <td>United Kingdom</td>\n",
       "      <td>9.80</td>\n",
       "    </tr>\n",
       "    <tr>\n",
       "      <th>13519</th>\n",
       "      <td>1744</td>\n",
       "      <td>United Kingdom</td>\n",
       "      <td>9.80</td>\n",
       "    </tr>\n",
       "  </tbody>\n",
       "</table>\n",
       "</div>"
      ],
      "text/plain": [
       "       Year         Country  Average_Temperature\n",
       "9750   1743  United Kingdom                 7.07\n",
       "13518  1743  United Kingdom                 7.07\n",
       "1908   1743   United States                 5.34\n",
       "3992   1743   United States                 5.34\n",
       "5742   1743   United States                 5.34\n",
       "15107  1743   United States                 5.44\n",
       "41741  1743   United States                 5.44\n",
       "68917  1743   United States                 5.34\n",
       "9751   1744  United Kingdom                 9.80\n",
       "13519  1744  United Kingdom                 9.80"
      ]
     },
     "execution_count": 53,
     "metadata": {},
     "output_type": "execute_result"
    }
   ],
   "source": [
    "duplicated_temp_rows = temp_df[temp_df.duplicated(keep=False)].sort_values(by=[\"Year\", \"Country\"])\n",
    "duplicated_temp_rows.head(10)"
   ]
  },
  {
   "cell_type": "code",
   "execution_count": null,
   "id": "107c52ff-7007-4c13-b2b8-6f224c98f89b",
   "metadata": {
    "tags": []
   },
   "outputs": [
    {
     "data": {
      "text/plain": [
       "(11963, 3)"
      ]
     },
     "execution_count": 54,
     "metadata": {},
     "output_type": "execute_result"
    }
   ],
   "source": [
    "duplicated_temp_rows.shape"
   ]
  },
  {
   "cell_type": "code",
   "execution_count": null,
   "id": "78f8a9f4-5124-47ed-99f9-31508e588468",
   "metadata": {
    "tags": []
   },
   "outputs": [
    {
     "data": {
      "text/plain": [
       "(71311, 3)"
      ]
     },
     "execution_count": 55,
     "metadata": {},
     "output_type": "execute_result"
    }
   ],
   "source": [
    "temp_df.shape"
   ]
  },
  {
   "cell_type": "code",
   "execution_count": null,
   "id": "2c490df9-9da1-49b8-b548-aff3105952df",
   "metadata": {
    "tags": []
   },
   "outputs": [],
   "source": [
    "temp_df[temp_df['Country'] == 'United Kingdom'].to_csv(\"uk.csv\")"
   ]
  },
  {
   "cell_type": "code",
   "execution_count": null,
   "id": "eb702877-4f06-425b-8898-445ca15a3b0a",
   "metadata": {},
   "outputs": [],
   "source": []
  }
 ],
 "metadata": {
  "kernelspec": {
   "display_name": "Python 3 (ipykernel)",
   "language": "python",
   "name": "python3"
  },
  "language_info": {
   "codemirror_mode": {
    "name": "ipython",
    "version": 3
   },
   "file_extension": ".py",
   "mimetype": "text/x-python",
   "name": "python",
   "nbconvert_exporter": "python",
   "pygments_lexer": "ipython3",
   "version": "3.10.9"
  }
 },
 "nbformat": 4,
 "nbformat_minor": 5
}
