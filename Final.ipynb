{
 "cells": [
  {
   "cell_type": "markdown",
   "id": "cddc163d-2c3a-46be-ae68-b1f84b6f294d",
   "metadata": {},
   "source": [
    "# Milestone I -Final Project\n",
    "\n",
    "## Problem formulation\n",
    "\n",
    "We aim to explore the link between farm productivity and pesticide use, considering the effects of temperature and rainfall. We want to identify countries that have boosted crop yields without increasing pesticide use. By studying these nations, we seek to uncover methods for better sustainable farming. Our key question is: “Which countries have raised crop output while stabilizing or reducing pesticide use, and how do weather conditions factor in?” Sustainable farming is crucial to being good sheppard of our planet's finite resources. The overuse of pesticides can degrade soil quality, harm wildlife, and even contaminate water supplies which can be a health hazard to humans. In an era where food security and environmental health are intertwined, it is important to find ways to to reduce our dependence on pesticides. By answering our question, we hope to provide insights that can be applied globally, a roadmap for agricultural practices, a way to nurture land and its inhabitants. We want to highlight sustainable farming and bring value to this context."
   ]
  },
  {
   "cell_type": "code",
   "execution_count": 1,
   "id": "6feea06b-3bdd-4ece-8123-eb47d58c3b36",
   "metadata": {},
   "outputs": [],
   "source": [
    "import requests\n",
    "from zipfile import ZipFile\n",
    "from io import BytesIO\n",
    "import pandas as pd\n",
    "import numpy as np\n",
    "import altair as alt\n",
    "import geopandas as gpd\n",
    "from scipy import stats\n",
    "import statsmodels.api as sm\n",
    "import matplotlib.pyplot as plt\n",
    "from matplotlib.colors import Normalize\n",
    "from IPython.display import display, Markdown\n",
    "\n",
    "import warnings\n",
    "warnings.simplefilter(action='ignore', category=FutureWarning)"
   ]
  },
  {
   "cell_type": "markdown",
   "id": "000091d6-d86c-4cf7-af1d-88547de7b110",
   "metadata": {},
   "source": [
    "# Load Datasets"
   ]
  },
  {
   "cell_type": "markdown",
   "id": "419aecb5-8be7-4449-9c04-dc229ac274f7",
   "metadata": {},
   "source": [
    "yield and pesticide datasets obtained by download from teh following urls, the temperature and rainfall datasets were previously downloaded from kaggle website and saved locally."
   ]
  },
  {
   "cell_type": "code",
   "execution_count": 2,
   "id": "0635552a-3575-4d1c-82ce-800a40eec2b0",
   "metadata": {},
   "outputs": [],
   "source": [
    "yield_url = 'https://fenixservices.fao.org/faostat/static/bulkdownloads/Production_Crops_Livestock_E_All_Data_(Normalized).zip'\n",
    "pest_url = 'https://fenixservices.fao.org/faostat/static/bulkdownloads/Inputs_Pesticides_Use_E_All_Data_(Normalized).zip'\n",
    "\n",
    "response = requests.get(yield_url)\n",
    "zip_file = ZipFile(BytesIO(response.content))\n",
    "csv_file = 'Production_Crops_Livestock_E_All_Data_(Normalized).csv'\n",
    "yield_df = pd.read_csv(zip_file.open(csv_file), encoding='ISO-8859-1')\n",
    "\n",
    "response = requests.get(pest_url)\n",
    "zip_file = ZipFile(BytesIO(response.content))\n",
    "csv_file = 'Inputs_Pesticides_Use_E_All_Data_(Normalized).csv'\n",
    "pest_df = pd.read_csv(zip_file.open(csv_file), encoding='ISO-8859-1')\n",
    "\n",
    "rain_df = pd.read_csv('./data/rainfall.csv')\n",
    "temp_df = pd.read_csv('./data/temp.csv')"
   ]
  },
  {
   "cell_type": "markdown",
   "id": "b74700dd-8dd8-4c99-a2ee-d578cba64166",
   "metadata": {},
   "source": [
    "# Explore Datasets"
   ]
  },
  {
   "cell_type": "code",
   "execution_count": 3,
   "id": "01ad01d2-2407-442f-8833-a5f7fb01365f",
   "metadata": {},
   "outputs": [],
   "source": [
    "# Function to print various data attributes\n",
    "def print_info(df, name):\n",
    "    # display(Markdown(f'### **{name}**'))\n",
    "    display(Markdown('**Dataframe info:**'))\n",
    "    print(df.info())\n",
    "    print('\\n')\n",
    "    display(Markdown('**Number of unique values per column:**'))\n",
    "    print(df.nunique())\n",
    "    print('\\n')\n",
    "    display(Markdown('**Summary statistics per column:**'))\n",
    "    print(df.describe().round(0).astype(int))\n",
    "    print('\\n')\n",
    "\n",
    "    display(Markdown('**Columns with missing values in df:**'))\n",
    "    missing_values = df.isna().sum()\n",
    "    print(missing_values[missing_values > 0].to_string(header=False))\n",
    "    print('\\n')"
   ]
  },
  {
   "cell_type": "markdown",
   "id": "26ca7000-9445-4484-acd7-a2912095c1ba",
   "metadata": {},
   "source": [
    "## Temperature\n",
    "\n",
    "The dataset contains information about average annual temperature across different years and countries.ay be needed.\n",
    "\n",
    "##### Attributes:\n",
    " - year: The year in which the data was collected.\n",
    " - country: The name of the country.\n",
    " - avg_temp: The average annual temperature in presumably degrees Celsius (although the unit is not explicitly stated).\n",
    "\n",
    "##### Note:\n",
    "There are some missing values in the avg_temp column. These will need to be addressed in the data preprocessing stage."
   ]
  },
  {
   "cell_type": "code",
   "execution_count": 4,
   "id": "ce99b9a2-4a16-4a61-b7bf-0b6d88bfdfe6",
   "metadata": {},
   "outputs": [
    {
     "data": {
      "text/markdown": [
       "**Dataframe info:**"
      ],
      "text/plain": [
       "<IPython.core.display.Markdown object>"
      ]
     },
     "metadata": {},
     "output_type": "display_data"
    },
    {
     "name": "stdout",
     "output_type": "stream",
     "text": [
      "<class 'pandas.core.frame.DataFrame'>\n",
      "RangeIndex: 71311 entries, 0 to 71310\n",
      "Data columns (total 3 columns):\n",
      " #   Column    Non-Null Count  Dtype  \n",
      "---  ------    --------------  -----  \n",
      " 0   year      71311 non-null  int64  \n",
      " 1   country   71311 non-null  object \n",
      " 2   avg_temp  68764 non-null  float64\n",
      "dtypes: float64(1), int64(1), object(1)\n",
      "memory usage: 1.6+ MB\n",
      "None\n",
      "\n",
      "\n"
     ]
    },
    {
     "data": {
      "text/markdown": [
       "**Number of unique values per column:**"
      ],
      "text/plain": [
       "<IPython.core.display.Markdown object>"
      ]
     },
     "metadata": {},
     "output_type": "display_data"
    },
    {
     "name": "stdout",
     "output_type": "stream",
     "text": [
      "year         271\n",
      "country      137\n",
      "avg_temp    3303\n",
      "dtype: int64\n",
      "\n",
      "\n"
     ]
    },
    {
     "data": {
      "text/markdown": [
       "**Summary statistics per column:**"
      ],
      "text/plain": [
       "<IPython.core.display.Markdown object>"
      ]
     },
     "metadata": {},
     "output_type": "display_data"
    },
    {
     "name": "stdout",
     "output_type": "stream",
     "text": [
      "        year  avg_temp\n",
      "count  71311     68764\n",
      "mean    1906        16\n",
      "std       67         8\n",
      "min     1743       -14\n",
      "25%     1858        10\n",
      "50%     1910        16\n",
      "75%     1962        24\n",
      "max     2013        31\n",
      "\n",
      "\n"
     ]
    },
    {
     "data": {
      "text/markdown": [
       "**Columns with missing values in df:**"
      ],
      "text/plain": [
       "<IPython.core.display.Markdown object>"
      ]
     },
     "metadata": {},
     "output_type": "display_data"
    },
    {
     "name": "stdout",
     "output_type": "stream",
     "text": [
      "avg_temp    2547\n",
      "\n",
      "\n"
     ]
    }
   ],
   "source": [
    "print_info(temp_df, 'temp_df')"
   ]
  },
  {
   "cell_type": "markdown",
   "id": "f7f6e8de-2835-4434-8dd1-7708e8fe7af4",
   "metadata": {},
   "source": [
    "## Rainfall\n",
    "\n",
    "##### Attributes:\n",
    " - year: The year in which the data was collected.\n",
    " - country: The name of the country.\n",
    " - avg_temp: The average annual temperature in presumably degrees Celsius (although the unit is not explicitly stated).\n",
    "\n",
    "##### Note:\n",
    "There are some missing values in the avg_temp column. These will need to be addressed in the data preprocessing stage."
   ]
  },
  {
   "cell_type": "code",
   "execution_count": 5,
   "id": "8eb5019d-66c8-4860-b886-a5fd31fafb36",
   "metadata": {},
   "outputs": [
    {
     "data": {
      "text/markdown": [
       "**Dataframe info:**"
      ],
      "text/plain": [
       "<IPython.core.display.Markdown object>"
      ]
     },
     "metadata": {},
     "output_type": "display_data"
    },
    {
     "name": "stdout",
     "output_type": "stream",
     "text": [
      "<class 'pandas.core.frame.DataFrame'>\n",
      "RangeIndex: 6727 entries, 0 to 6726\n",
      "Data columns (total 3 columns):\n",
      " #   Column                         Non-Null Count  Dtype \n",
      "---  ------                         --------------  ----- \n",
      " 0    Area                          6727 non-null   object\n",
      " 1   Year                           6727 non-null   int64 \n",
      " 2   average_rain_fall_mm_per_year  5953 non-null   object\n",
      "dtypes: int64(1), object(2)\n",
      "memory usage: 157.8+ KB\n",
      "None\n",
      "\n",
      "\n"
     ]
    },
    {
     "data": {
      "text/markdown": [
       "**Number of unique values per column:**"
      ],
      "text/plain": [
       "<IPython.core.display.Markdown object>"
      ]
     },
     "metadata": {},
     "output_type": "display_data"
    },
    {
     "name": "stdout",
     "output_type": "stream",
     "text": [
      " Area                            217\n",
      "Year                              31\n",
      "average_rain_fall_mm_per_year    173\n",
      "dtype: int64\n",
      "\n",
      "\n"
     ]
    },
    {
     "data": {
      "text/markdown": [
       "**Summary statistics per column:**"
      ],
      "text/plain": [
       "<IPython.core.display.Markdown object>"
      ]
     },
     "metadata": {},
     "output_type": "display_data"
    },
    {
     "name": "stdout",
     "output_type": "stream",
     "text": [
      "       Year\n",
      "count  6727\n",
      "mean   2001\n",
      "std      10\n",
      "min    1985\n",
      "25%    1993\n",
      "50%    2001\n",
      "75%    2010\n",
      "max    2017\n",
      "\n",
      "\n"
     ]
    },
    {
     "data": {
      "text/markdown": [
       "**Columns with missing values in df:**"
      ],
      "text/plain": [
       "<IPython.core.display.Markdown object>"
      ]
     },
     "metadata": {},
     "output_type": "display_data"
    },
    {
     "name": "stdout",
     "output_type": "stream",
     "text": [
      "average_rain_fall_mm_per_year    774\n",
      "\n",
      "\n"
     ]
    }
   ],
   "source": [
    "print_info(rain_df, 'rain_df')"
   ]
  },
  {
   "cell_type": "markdown",
   "id": "32302755-fb1b-416a-b8c5-95abb0ee7ce3",
   "metadata": {},
   "source": [
    "## Pesticide Use\n",
    "\n",
    "##### Attributes:\n",
    " - Domain: Appears to indicate the subject area of the data, which is 'Pesticides Use' in this case.\n",
    " - Area: The geographical area, which looks like the name of the country.\n",
    " - Element: Specifies what the data represents, i.e., 'Use' of pesticides.\n",
    " - Item: The type of pesticide used. It is listed as 'Pesticides (total)' in the initial rows.\n",
    " - Year: The year in which the data was collected.\n",
    " - Unit: The unit of measurement, which is 'tonnes of active ingredients'.\n",
    " - Value: The actual value, representing the amount of pesticides used."
   ]
  },
  {
   "cell_type": "code",
   "execution_count": 6,
   "id": "59fd468b-839f-4b25-8609-6272884565af",
   "metadata": {},
   "outputs": [
    {
     "data": {
      "text/markdown": [
       "**Dataframe info:**"
      ],
      "text/plain": [
       "<IPython.core.display.Markdown object>"
      ]
     },
     "metadata": {},
     "output_type": "display_data"
    },
    {
     "name": "stdout",
     "output_type": "stream",
     "text": [
      "<class 'pandas.core.frame.DataFrame'>\n",
      "RangeIndex: 112350 entries, 0 to 112349\n",
      "Data columns (total 12 columns):\n",
      " #   Column           Non-Null Count   Dtype  \n",
      "---  ------           --------------   -----  \n",
      " 0   Area Code        112350 non-null  int64  \n",
      " 1   Area Code (M49)  112350 non-null  object \n",
      " 2   Area             112350 non-null  object \n",
      " 3   Item Code        112350 non-null  int64  \n",
      " 4   Item             112350 non-null  object \n",
      " 5   Element Code     112350 non-null  int64  \n",
      " 6   Element          112350 non-null  object \n",
      " 7   Year Code        112350 non-null  int64  \n",
      " 8   Year             112350 non-null  int64  \n",
      " 9   Unit             112350 non-null  object \n",
      " 10  Value            112350 non-null  float64\n",
      " 11  Flag             112350 non-null  object \n",
      "dtypes: float64(1), int64(5), object(6)\n",
      "memory usage: 10.3+ MB\n",
      "None\n",
      "\n",
      "\n"
     ]
    },
    {
     "data": {
      "text/markdown": [
       "**Number of unique values per column:**"
      ],
      "text/plain": [
       "<IPython.core.display.Markdown object>"
      ]
     },
     "metadata": {},
     "output_type": "display_data"
    },
    {
     "name": "stdout",
     "output_type": "stream",
     "text": [
      "Area Code            254\n",
      "Area Code (M49)      254\n",
      "Area                 254\n",
      "Item Code             47\n",
      "Item                  47\n",
      "Element Code           4\n",
      "Element                4\n",
      "Year Code             32\n",
      "Year                  32\n",
      "Unit                   4\n",
      "Value              33890\n",
      "Flag                   4\n",
      "dtype: int64\n",
      "\n",
      "\n"
     ]
    },
    {
     "data": {
      "text/markdown": [
       "**Summary statistics per column:**"
      ],
      "text/plain": [
       "<IPython.core.display.Markdown object>"
      ]
     },
     "metadata": {},
     "output_type": "display_data"
    },
    {
     "name": "stdout",
     "output_type": "stream",
     "text": [
      "       Area Code  Item Code  Element Code  Year Code    Year    Value\n",
      "count     112350     112350        112350     112350  112350   112350\n",
      "mean         804       1338          5159       2006    2006     6569\n",
      "std         1760         17             5          9       9    65038\n",
      "min            1       1309          5157       1990    1990        0\n",
      "25%           74       1321          5157       1998    1998        0\n",
      "50%          147       1341          5157       2006    2006        8\n",
      "75%          217       1357          5157       2014    2014      270\n",
      "max         5817       1357          5173       2021    2021  3535375\n",
      "\n",
      "\n"
     ]
    },
    {
     "data": {
      "text/markdown": [
       "**Columns with missing values in df:**"
      ],
      "text/plain": [
       "<IPython.core.display.Markdown object>"
      ]
     },
     "metadata": {},
     "output_type": "display_data"
    },
    {
     "name": "stdout",
     "output_type": "stream",
     "text": [
      "Series([], )\n",
      "\n",
      "\n"
     ]
    }
   ],
   "source": [
    "print_info(pest_df, 'pest_df')"
   ]
  },
  {
   "cell_type": "markdown",
   "id": "0223996a-ae9b-46e9-9e65-a30b9ad67ddd",
   "metadata": {},
   "source": [
    "## Crop Yields\n",
    "The dataset contains 56,717 records and 12 columns.\n",
    "\n",
    "##### Attributes:\n",
    " - Domain Code, Domain, Element Code, Element, and Unit: These columns contain only 1 unique value and are likely to be redundant for analysis.\n",
    " - Area Code and Area: Represent the geographical location with 212 unique areas.\n",
    " - Item Code and Item: Indicate the type of crop, with 10 unique crop types.\n",
    " - Year Code and Year: Represent the year data was collected, with 56 unique years.\n",
    " - Value: Represents crop yield and contains 36,815 unique val\n",
    "\n",
    "##### Notes:\n",
    "\n",
    "The data types are mixed: integer types (Area Code, Element Code, Item Code, Year Code, Year, Value) and object types (Domain Code, Domain, Area, Element, Item, Unit).ues."
   ]
  },
  {
   "cell_type": "code",
   "execution_count": 7,
   "id": "a8ccd1c7-a431-4b59-9e6a-9a50c9ab5290",
   "metadata": {},
   "outputs": [
    {
     "data": {
      "text/markdown": [
       "**Dataframe info:**"
      ],
      "text/plain": [
       "<IPython.core.display.Markdown object>"
      ]
     },
     "metadata": {},
     "output_type": "display_data"
    },
    {
     "name": "stdout",
     "output_type": "stream",
     "text": [
      "<class 'pandas.core.frame.DataFrame'>\n",
      "RangeIndex: 3761168 entries, 0 to 3761167\n",
      "Data columns (total 13 columns):\n",
      " #   Column           Dtype  \n",
      "---  ------           -----  \n",
      " 0   Area Code        int64  \n",
      " 1   Area Code (M49)  object \n",
      " 2   Area             object \n",
      " 3   Item Code        int64  \n",
      " 4   Item Code (CPC)  object \n",
      " 5   Item             object \n",
      " 6   Element Code     int64  \n",
      " 7   Element          object \n",
      " 8   Year Code        int64  \n",
      " 9   Year             int64  \n",
      " 10  Unit             object \n",
      " 11  Value            float64\n",
      " 12  Flag             object \n",
      "dtypes: float64(1), int64(5), object(7)\n",
      "memory usage: 373.0+ MB\n",
      "None\n",
      "\n",
      "\n"
     ]
    },
    {
     "data": {
      "text/markdown": [
       "**Number of unique values per column:**"
      ],
      "text/plain": [
       "<IPython.core.display.Markdown object>"
      ]
     },
     "metadata": {},
     "output_type": "display_data"
    },
    {
     "name": "stdout",
     "output_type": "stream",
     "text": [
      "Area Code             245\n",
      "Area Code (M49)       245\n",
      "Area                  245\n",
      "Item Code             301\n",
      "Item Code (CPC)       301\n",
      "Item                  301\n",
      "Element Code           18\n",
      "Element                 9\n",
      "Year Code              61\n",
      "Year                   61\n",
      "Unit                   12\n",
      "Value              941901\n",
      "Flag                    5\n",
      "dtype: int64\n",
      "\n",
      "\n"
     ]
    },
    {
     "data": {
      "text/markdown": [
       "**Summary statistics per column:**"
      ],
      "text/plain": [
       "<IPython.core.display.Markdown object>"
      ]
     },
     "metadata": {},
     "output_type": "display_data"
    },
    {
     "name": "stdout",
     "output_type": "stream",
     "text": [
      "       Area Code  Item Code  Element Code  Year Code     Year       Value\n",
      "count    3761168    3761168       3761168    3761168  3761168     3761168\n",
      "mean        1487        830          5409       1994     1994     2477943\n",
      "std         2304       1165           103         17       17    27727895\n",
      "min            1         15          5111       1961     1961           0\n",
      "25%           89        339          5312       1979     1979        2600\n",
      "50%          170        600          5419       1995     1995       23164\n",
      "75%         5000       1058          5510       2008     2008      156153\n",
      "max         5817      17530          5513       2021     2021 -2147483648\n",
      "\n",
      "\n"
     ]
    },
    {
     "data": {
      "text/markdown": [
       "**Columns with missing values in df:**"
      ],
      "text/plain": [
       "<IPython.core.display.Markdown object>"
      ]
     },
     "metadata": {},
     "output_type": "display_data"
    },
    {
     "name": "stdout",
     "output_type": "stream",
     "text": [
      "Series([], )\n",
      "\n",
      "\n"
     ]
    }
   ],
   "source": [
    "print_info(yield_df, 'yield_df')"
   ]
  },
  {
   "cell_type": "markdown",
   "id": "a8a45fcd-4006-45f6-a90d-dc23aa4511e6",
   "metadata": {},
   "source": [
    "## Year Ranges"
   ]
  },
  {
   "cell_type": "code",
   "execution_count": 13,
   "id": "58f26e35-d97d-4888-bd40-927738cb7b23",
   "metadata": {},
   "outputs": [
    {
     "name": "stdout",
     "output_type": "stream",
     "text": [
      "Year range in temp.csv 1743 - 2013\n",
      "Year range in rainfall.csv 1985 - 2017\n",
      "Year range in yield.csv 1961 - 2021\n",
      "Year range in pesticides.csv 1990 - 2021\n"
     ]
    }
   ],
   "source": [
    "def year_ranges():\n",
    "    print(f\"Year range in temp.csv {temp_df['Year'].min()} - {temp_df['Year'].max()}\")\n",
    "    print(f\"Year range in rainfall.csv {rain_df['Year'].min()} - {rain_df['Year'].max()}\")\n",
    "    print(f\"Year range in yield.csv {yield_df['Year'].min()} - {yield_df['Year'].max()}\")\n",
    "    print(f\"Year range in pesticides.csv {pest_df['Year'].min()} - {pest_df['Year'].max()}\")\n",
    "\n",
    "year_ranges()"
   ]
  },
  {
   "cell_type": "markdown",
   "id": "d2d05ba2-10e8-448b-b60e-5e9589b0f64a",
   "metadata": {},
   "source": [
    "# Data Cleaning"
   ]
  },
  {
   "cell_type": "markdown",
   "id": "632a0878-19d7-4876-afdc-e0d24cff7e01",
   "metadata": {},
   "source": [
    "## Columns (Data fields)"
   ]
  },
  {
   "cell_type": "markdown",
   "id": "31d20b61-b6aa-4156-8ee8-b5f9f8ff692c",
   "metadata": {},
   "source": [
    "### Column Transformations\n",
    "We will rename some columns to be consistent among the dataframes and make it easier to merge data later on. Also, we will subset the dataframes to take only columns of interest"
   ]
  },
  {
   "cell_type": "code",
   "execution_count": 8,
   "id": "63502158-f081-4f97-9634-7dd2d2901160",
   "metadata": {},
   "outputs": [],
   "source": [
    "temp_df.rename(columns = {'year':'Year','country':'Country','avg_temp':'Temperature'},inplace = True)\n",
    "rain_df.rename(columns = {' Area':'Country','average_rain_fall_mm_per_year':'Rainfall'},inplace = True)\n",
    "yield_df.rename(columns = {'Area':'Country','Value':'Yield'},inplace = True)\n",
    "pest_df.rename(columns = {'Area':'Country','Value':'Pesticides'},inplace = True)\n",
    "\n",
    "pest_df = pest_df[['Country', 'Year', 'Pesticides']]\n",
    "yield_df = yield_df[['Country', 'Item', 'Year', 'Yield', 'Element Code']]"
   ]
  },
  {
   "cell_type": "markdown",
   "id": "95495a76-ff1f-44fd-8f8e-19cd576c74ef",
   "metadata": {},
   "source": [
    "### Yield Transformations\n",
    "The yield dataset contains information on individual crops, for our analysis we will combine these and sum the totals for that country by year. Based on the metadata for the dataset from the FAO, the code 5419 hast the most to do with crop yields, we will subset on this. "
   ]
  },
  {
   "cell_type": "code",
   "execution_count": 10,
   "id": "87f5df3d-0186-412b-a1a3-8e838e923f07",
   "metadata": {},
   "outputs": [
    {
     "data": {
      "text/plain": [
       "array([5312, 5419, 5510, 5111, 5320, 5112, 5410, 5413, 5513, 5313, 5417,\n",
       "       5424, 5321, 5420, 5318, 5114, 5314, 5422], dtype=int64)"
      ]
     },
     "execution_count": 10,
     "metadata": {},
     "output_type": "execute_result"
    }
   ],
   "source": [
    "yield_df['Element Code'].unique()"
   ]
  },
  {
   "cell_type": "code",
   "execution_count": 11,
   "id": "dec2bddd-6725-4519-9c27-44ce05f11053",
   "metadata": {},
   "outputs": [],
   "source": [
    "yield_df = yield_df[yield_df['Element Code'] == 5419].groupby(['Country','Year'])['Yield'].sum().reset_index()"
   ]
  },
  {
   "cell_type": "code",
   "execution_count": 12,
   "id": "84594a96-d156-46d8-bccf-3539b82e6acf",
   "metadata": {},
   "outputs": [
    {
     "data": {
      "text/html": [
       "<div>\n",
       "<style scoped>\n",
       "    .dataframe tbody tr th:only-of-type {\n",
       "        vertical-align: middle;\n",
       "    }\n",
       "\n",
       "    .dataframe tbody tr th {\n",
       "        vertical-align: top;\n",
       "    }\n",
       "\n",
       "    .dataframe thead th {\n",
       "        text-align: right;\n",
       "    }\n",
       "</style>\n",
       "<table border=\"1\" class=\"dataframe\">\n",
       "  <thead>\n",
       "    <tr style=\"text-align: right;\">\n",
       "      <th></th>\n",
       "      <th>Country</th>\n",
       "      <th>Year</th>\n",
       "      <th>Yield</th>\n",
       "    </tr>\n",
       "  </thead>\n",
       "  <tbody>\n",
       "    <tr>\n",
       "      <th>0</th>\n",
       "      <td>Afghanistan</td>\n",
       "      <td>1961</td>\n",
       "      <td>1921425.0</td>\n",
       "    </tr>\n",
       "    <tr>\n",
       "      <th>1</th>\n",
       "      <td>Afghanistan</td>\n",
       "      <td>1962</td>\n",
       "      <td>1993718.0</td>\n",
       "    </tr>\n",
       "    <tr>\n",
       "      <th>2</th>\n",
       "      <td>Afghanistan</td>\n",
       "      <td>1963</td>\n",
       "      <td>1987768.0</td>\n",
       "    </tr>\n",
       "  </tbody>\n",
       "</table>\n",
       "</div>"
      ],
      "text/plain": [
       "       Country  Year      Yield\n",
       "0  Afghanistan  1961  1921425.0\n",
       "1  Afghanistan  1962  1993718.0\n",
       "2  Afghanistan  1963  1987768.0"
      ]
     },
     "execution_count": 12,
     "metadata": {},
     "output_type": "execute_result"
    }
   ],
   "source": [
    "yield_df.head(3)"
   ]
  },
  {
   "cell_type": "markdown",
   "id": "871754b7-f8b9-444d-9cbf-e1304534292b",
   "metadata": {},
   "source": [
    "## Data Integrity Findings"
   ]
  },
  {
   "cell_type": "markdown",
   "id": "4af0ac08-af33-49e7-95c5-89d4146a7f14",
   "metadata": {},
   "source": [
    "### Country Names\n",
    "The country names between the pesticides and yield datasets have some inconsistencies, we can view the values that are present in the yield dataset but not in the pesticide dataset. As we can see there are several that don't make sense, such as Netherlands, United Kingdom, and Turkey. ON review of the countries in the pesticides dataset, we note that 'Türkiye', 'United Kingdom of Great Britain and Northern Ireland', and 'Netherlands (Kingdom of the)' are listed. "
   ]
  },
  {
   "cell_type": "code",
   "execution_count": 15,
   "id": "45895cb9-9e25-457d-989c-5017fce699a9",
   "metadata": {},
   "outputs": [
    {
     "data": {
      "text/plain": [
       "array(['Afghanistan', 'Dominica', 'Guadeloupe', 'Guyana',\n",
       "       'Marshall Islands', 'Martinique', 'Micronesia', 'Netherlands',\n",
       "       'Puerto Rico', 'Réunion', 'Singapore', 'South Sudan',\n",
       "       'United Arab Emirates', 'Uzbekistan'], dtype=object)"
      ]
     },
     "execution_count": 15,
     "metadata": {},
     "output_type": "execute_result"
    }
   ],
   "source": [
    "unique_values_yield = yield_df.loc[~yield_df['Country'].isin(pest_df['Country']), 'Country'].unique()\n",
    "unique_values_yield"
   ]
  },
  {
   "cell_type": "code",
   "execution_count": 16,
   "id": "51ae324a-c96a-434d-87f4-8c3b24a4eafb",
   "metadata": {},
   "outputs": [],
   "source": [
    "replacements = {\n",
    "    'Türkiye': 'Turkey',\n",
    "    'United Kingdom of Great Britain and Northern Ireland': 'United Kingdom',\n",
    "    'Netherlands (Kingdom of the)':'Netherlands'\n",
    "}\n",
    "\n",
    "pest_df['Country'] = pest_df['Country'].replace(replacements)"
   ]
  },
  {
   "cell_type": "markdown",
   "id": "024563fd-34b3-475c-a720-fc0b603cd4c1",
   "metadata": {},
   "source": []
  },
  {
   "cell_type": "code",
   "execution_count": 18,
   "id": "75ae21e7-659c-4c1e-a053-acc1cf03ca24",
   "metadata": {},
   "outputs": [
    {
     "data": {
      "text/html": [
       "\n",
       "<style>\n",
       "  #altair-viz-4f0c7f25dc5043cd813743974e6f731b.vega-embed {\n",
       "    width: 100%;\n",
       "    display: flex;\n",
       "  }\n",
       "\n",
       "  #altair-viz-4f0c7f25dc5043cd813743974e6f731b.vega-embed details,\n",
       "  #altair-viz-4f0c7f25dc5043cd813743974e6f731b.vega-embed details summary {\n",
       "    position: relative;\n",
       "  }\n",
       "</style>\n",
       "<div id=\"altair-viz-4f0c7f25dc5043cd813743974e6f731b\"></div>\n",
       "<script type=\"text/javascript\">\n",
       "  var VEGA_DEBUG = (typeof VEGA_DEBUG == \"undefined\") ? {} : VEGA_DEBUG;\n",
       "  (function(spec, embedOpt){\n",
       "    let outputDiv = document.currentScript.previousElementSibling;\n",
       "    if (outputDiv.id !== \"altair-viz-4f0c7f25dc5043cd813743974e6f731b\") {\n",
       "      outputDiv = document.getElementById(\"altair-viz-4f0c7f25dc5043cd813743974e6f731b\");\n",
       "    }\n",
       "    const paths = {\n",
       "      \"vega\": \"https://cdn.jsdelivr.net/npm/vega@5?noext\",\n",
       "      \"vega-lib\": \"https://cdn.jsdelivr.net/npm/vega-lib?noext\",\n",
       "      \"vega-lite\": \"https://cdn.jsdelivr.net/npm/vega-lite@5.14.1?noext\",\n",
       "      \"vega-embed\": \"https://cdn.jsdelivr.net/npm/vega-embed@6?noext\",\n",
       "    };\n",
       "\n",
       "    function maybeLoadScript(lib, version) {\n",
       "      var key = `${lib.replace(\"-\", \"\")}_version`;\n",
       "      return (VEGA_DEBUG[key] == version) ?\n",
       "        Promise.resolve(paths[lib]) :\n",
       "        new Promise(function(resolve, reject) {\n",
       "          var s = document.createElement('script');\n",
       "          document.getElementsByTagName(\"head\")[0].appendChild(s);\n",
       "          s.async = true;\n",
       "          s.onload = () => {\n",
       "            VEGA_DEBUG[key] = version;\n",
       "            return resolve(paths[lib]);\n",
       "          };\n",
       "          s.onerror = () => reject(`Error loading script: ${paths[lib]}`);\n",
       "          s.src = paths[lib];\n",
       "        });\n",
       "    }\n",
       "\n",
       "    function showError(err) {\n",
       "      outputDiv.innerHTML = `<div class=\"error\" style=\"color:red;\">${err}</div>`;\n",
       "      throw err;\n",
       "    }\n",
       "\n",
       "    function displayChart(vegaEmbed) {\n",
       "      vegaEmbed(outputDiv, spec, embedOpt)\n",
       "        .catch(err => showError(`Javascript Error: ${err.message}<br>This usually means there's a typo in your chart specification. See the javascript console for the full traceback.`));\n",
       "    }\n",
       "\n",
       "    if(typeof define === \"function\" && define.amd) {\n",
       "      requirejs.config({paths});\n",
       "      require([\"vega-embed\"], displayChart, err => showError(`Error loading script: ${err.message}`));\n",
       "    } else {\n",
       "      maybeLoadScript(\"vega\", \"5\")\n",
       "        .then(() => maybeLoadScript(\"vega-lite\", \"5.14.1\"))\n",
       "        .then(() => maybeLoadScript(\"vega-embed\", \"6\"))\n",
       "        .catch(showError)\n",
       "        .then(() => displayChart(vegaEmbed));\n",
       "    }\n",
       "  })({\"config\": {\"view\": {\"continuousWidth\": 300, \"continuousHeight\": 300}}, \"data\": {\"name\": \"data-523bf91649ac9daed70d1da22108991e\"}, \"mark\": {\"type\": \"bar\"}, \"encoding\": {\"tooltip\": [{\"field\": \"Year_Bin\", \"type\": \"ordinal\"}, {\"field\": \"Missing_Proportion\", \"type\": \"quantitative\"}], \"x\": {\"axis\": {\"labelAngle\": -45}, \"field\": \"Year_Bin\", \"title\": \"Year Bin\", \"type\": \"ordinal\"}, \"y\": {\"field\": \"Missing_Proportion\", \"title\": \"Average Proportion of Missing Values\", \"type\": \"quantitative\"}}, \"height\": 400, \"title\": \"Average Proportion of Missing Values by Year Bin in Temperature Dataset\", \"width\": 600, \"$schema\": \"https://vega.github.io/schema/vega-lite/v5.14.1.json\", \"datasets\": {\"data-523bf91649ac9daed70d1da22108991e\": [{\"Year_Bin\": \"1743-1752\", \"Missing_Proportion\": 0.4151898734177215}, {\"Year_Bin\": \"1753-1762\", \"Missing_Proportion\": 0.017817371937639197}, {\"Year_Bin\": \"1763-1772\", \"Missing_Proportion\": 0.06526315789473684}, {\"Year_Bin\": \"1773-1782\", \"Missing_Proportion\": 0.06389452332657201}, {\"Year_Bin\": \"1783-1792\", \"Missing_Proportion\": 0.07490272373540856}, {\"Year_Bin\": \"1793-1802\", \"Missing_Proportion\": 0.07809983896940419}, {\"Year_Bin\": \"1803-1812\", \"Missing_Proportion\": 0.16406829992576094}, {\"Year_Bin\": \"1813-1822\", \"Missing_Proportion\": 0.03337696335078534}, {\"Year_Bin\": \"1823-1832\", \"Missing_Proportion\": 0.12777777777777777}, {\"Year_Bin\": \"1833-1842\", \"Missing_Proportion\": 0.10324232081911262}, {\"Year_Bin\": \"1843-1852\", \"Missing_Proportion\": 0.08269364968597348}, {\"Year_Bin\": \"1853-1862\", \"Missing_Proportion\": 0.0872321159070329}, {\"Year_Bin\": \"1863-1872\", \"Missing_Proportion\": 0.1444866920152091}, {\"Year_Bin\": \"1873-1882\", \"Missing_Proportion\": 0.02335766423357664}, {\"Year_Bin\": \"1883-1892\", \"Missing_Proportion\": 0.010724637681159421}, {\"Year_Bin\": \"1893-1902\", \"Missing_Proportion\": 0.0}, {\"Year_Bin\": \"1903-1912\", \"Missing_Proportion\": 0.0}, {\"Year_Bin\": \"1913-1922\", \"Missing_Proportion\": 0.0}, {\"Year_Bin\": \"1923-1932\", \"Missing_Proportion\": 0.0}, {\"Year_Bin\": \"1933-1942\", \"Missing_Proportion\": 0.0}, {\"Year_Bin\": \"1943-1952\", \"Missing_Proportion\": 0.0}, {\"Year_Bin\": \"1953-1962\", \"Missing_Proportion\": 0.0}, {\"Year_Bin\": \"1963-1972\", \"Missing_Proportion\": 0.0}, {\"Year_Bin\": \"1973-1982\", \"Missing_Proportion\": 0.0}, {\"Year_Bin\": \"1983-1992\", \"Missing_Proportion\": 0.0}, {\"Year_Bin\": \"1993-2002\", \"Missing_Proportion\": 0.0}, {\"Year_Bin\": \"2003-2012\", \"Missing_Proportion\": 0.0}]}}, {\"mode\": \"vega-lite\"});\n",
       "</script>"
      ],
      "text/plain": [
       "alt.Chart(...)"
      ]
     },
     "execution_count": 18,
     "metadata": {},
     "output_type": "execute_result"
    }
   ],
   "source": []
  },
  {
   "cell_type": "code",
   "execution_count": 19,
   "id": "0e6e7102-c76b-4916-8293-e76bca62e18a",
   "metadata": {},
   "outputs": [
    {
     "data": {
      "text/plain": [
       "Year             0\n",
       "Country          0\n",
       "Temperature      0\n",
       "Year_Bin       345\n",
       "dtype: int64"
      ]
     },
     "execution_count": 19,
     "metadata": {},
     "output_type": "execute_result"
    }
   ],
   "source": [
    "temp_df[temp_df[\"Year\"] >= 1900].isnull().sum()"
   ]
  },
  {
   "cell_type": "code",
   "execution_count": null,
   "id": "f398ffa7-8433-465c-905f-d5c85ec39505",
   "metadata": {},
   "outputs": [],
   "source": [
    "temp_df_cleaned = temp_df[temp_df[\"Year\"] >= 1900].copy().reset_index()\n",
    "temp_df_cleaned = temp_df_cleaned.drop(columns=['Year_Bin'])\n",
    "temp_df_cleaned"
   ]
  }
 ],
 "metadata": {
  "kernelspec": {
   "display_name": "milestone",
   "language": "python",
   "name": "milestone"
  },
  "language_info": {
   "codemirror_mode": {
    "name": "ipython",
    "version": 3
   },
   "file_extension": ".py",
   "mimetype": "text/x-python",
   "name": "python",
   "nbconvert_exporter": "python",
   "pygments_lexer": "ipython3",
   "version": "3.11.4"
  }
 },
 "nbformat": 4,
 "nbformat_minor": 5
}
