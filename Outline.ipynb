{
 "cells": [
  {
   "cell_type": "markdown",
   "id": "dd4df092-b37b-447f-84ed-55997621ed54",
   "metadata": {},
   "source": [
    "# Milestone I"
   ]
  },
  {
   "cell_type": "markdown",
   "id": "915d2994-c388-43bf-81c6-be863354e01d",
   "metadata": {},
   "source": [
    "# Motivation"
   ]
  },
  {
   "cell_type": "markdown",
   "id": "0ecb64a4-4a47-4159-b69b-e03e5b0ca1dd",
   "metadata": {},
   "source": [
    "## Background\n",
    "\n",
    "### Pesticide Use and Environmental Impact\n",
    "\n",
    "Pesticides have played a significant role in agricultural development, providing a means to control pests and diseases that can damage crops[^1^]. However, their widespread use has also led to various environmental and health concerns. Pesticide contamination of soil, water, turf, and other vegetation has become a widespread problem, with groundwater pollution being particularly concerning[^4^]. In developing countries, the use of pesticides has been linked to negative impacts on human health and food security[^5^].\n",
    "\n",
    "### Sustainable Farming Practices\n",
    "\n",
    "As the global community becomes more aware of the environmental and health risks associated with pesticide use, there is a growing interest in sustainable farming practices that can reduce dependence on these chemicals[^3^]. Some developed countries, such as Denmark, France, Finland, and Japan, have already taken steps to reduce pesticide use intensity in recent years[^2^]. These efforts highlight the potential for alternative approaches to boost crop yields without increasing pesticide use.\n",
    "\n",
    "### Climate Change and Pesticide Use\n",
    "\n",
    "Climate change-related factors, such as temperature and rainfall, can also influence pesticide use and its adverse effects on the natural environment[^1^]. As weather conditions become more unpredictable, it is crucial to understand how these factors interact with pesticide use and farm productivity. This understanding can help inform the development of more sustainable agricultural practices that are resilient to changing climate conditions.\n",
    "\n",
    "### A Roadmap for Sustainable Agriculture\n",
    "\n",
    "In an era where food security and environmental health are intertwined, it is essential to find ways to reduce our dependence on pesticides and promote sustainable farming practices[^3^]. By studying countries that have successfully raised crop output while stabilizing or reducing pesticide use, we can uncover methods for better sustainable farming and provide insights that can be applied globally. Our future endeavor would be to create a roadmap for agricultural practices that nurture the land and its inhabitants while highlighting the value of sustainable farming in the context of food security and environmental health.\n",
    "\n",
    "## Research Questions\n",
    "\n",
    "#### Question 1: Which countries have successfully raised crop output while stabilizing or reducing pesticide use?\n",
    "\n",
    "This question aims to identify countries that have managed to boost their agricultural productivity without increasing their reliance on pesticides. By examining these nations, you can uncover the strategies and practices they have implemented to achieve sustainable farming.\n",
    "\n",
    "#### Question 2: How do weather conditions, like temperature and rainfall, influence farm productivity and pesticide use?\n",
    "\n",
    "Understanding the role of climate factors in the link between farm productivity and pesticide use is crucial for developing sustainable agricultural practices that are resilient to changing weather conditions. This question seeks to explore the impact of temperature and rainfall on the effectiveness of various farming methods and their reliance on pesticides."
   ]
  },
  {
   "cell_type": "markdown",
   "id": "c22cd6d3-173e-43d7-9297-c57658ff03d2",
   "metadata": {},
   "source": [
    "# Data Sources"
   ]
  },
  {
   "cell_type": "markdown",
   "id": "9daadb73-5590-4804-aafe-56652a019f86",
   "metadata": {},
   "source": [
    "The `yield.csv` dataset has the following properties:\n",
    "\n",
    "- **Location**: The dataset was downloaded from FAOSTAT, specifically from the URL: [Production_Crops_Livestock_E_All_Data_(Normalized).zip](https://fenixservices.fao.org/faostat/static/bulkdownloads/Production_Crops_Livestock_E_All_Data_(Normalized).zip).\n",
    "- **Format**: The dataset is in CSV format.\n",
    "- **Important Variables**: \n",
    "  - `Country`: The country for which the data is reported.\n",
    "  - `Year`: The year in which the data was reported.\n",
    "  - `Yield`: The yield value for the reported year and country.\n",
    "- **Number of Records**: There are 13,547 records in the dataset.\n",
    "- **Time Period**: The dataset covers the years from 1961 to 2021.\n",
    "\n",
    "The `rainfall.csv` dataset has the following properties:\n",
    "\n",
    "- **Location**: This dataset was sourced from the \"Crop Yield Prediction Dataset\" on Kaggle, available at the URL: [Crop Yield Prediction Dataset](https://www.kaggle.com/datasets/patelris/crop-yield-prediction-dataset/data).\n",
    "- **Format**: The dataset is in CSV format.\n",
    "- **Important Variables**:\n",
    "  - ` Area`: The area (likely country or region) for which the data is reported.\n",
    "  - `Year`: The year in which the data was reported.\n",
    "  - `average_rain_fall_mm_per_year`: The average rainfall in millimeters for the reported year and area.\n",
    "- **Number of Records**: There are 6,727 records in the dataset.\n",
    "- **Time Period**: The dataset covers the years from 1985 to 2017.\n",
    "\n",
    "From the `temp.csv` dataset, we can observe:\n",
    "\n",
    "- The column representing the year is named `year` instead of `Year`.\n",
    "- The dataset contains columns for `country` and `avg_temp` which represent the country for which the data is reported and the average temperature respectively.\n",
    "\n",
    "The `pest.csv` dataset has the following properties:\n",
    "\n",
    "- **Location**: This dataset was also obtained from FAOSTAT, specifically from the URL: [Inputs_Pesticides_Use_E_All_Data_(Normalized).zip](https://fenixservices.fao.org/faostat/static/bulkdownloads/Inputs_Pesticides_Use_E_All_Data_(Normalized).zip).\n",
    "- **Format**: The dataset is in CSV format.\n",
    "- **Important Variables**:\n",
    "  - `Country`: The country for which the data is reported.\n",
    "  - `Year`: The year in which the data was reported.\n",
    "  - `Pesticides`: The amount of pesticides used for the reported year and country.\n",
    "- **Number of Records**: There are 112,350 records in the dataset.\n",
    "- **Time Period**: The dataset covers the years from 1990 to 2021.\n",
    "\n",
    "The `temp.csv` dataset has the following properties:\n",
    "\n",
    "- **Location**: This dataset was also sourced from the \"Crop Yield Prediction Dataset\" on Kaggle, available at the URL: [Crop Yield Prediction Dataset](https://www.kaggle.com/datasets/patelris/crop-yield-prediction-dataset/data).\n",
    "- **Format**: The dataset is in CSV format.\n",
    "- **Important Variables**:\n",
    "  - `country`: The country for which the data is reported.\n",
    "  - `year`: The year in which the data was reported.\n",
    "  - `avg_temp`: The average temperature for the reported year and country.\n",
    "- **Number of Records**: There are 71,311 records in the dataset.\n",
    "- **Time Period**: The dataset covers the years from 1743 to 2013."
   ]
  },
  {
   "cell_type": "markdown",
   "id": "26ad03d8-64d9-49e6-9908-a0f7394bfb89",
   "metadata": {},
   "source": [
    "**Consolidated Description of Data Sources**\n",
    "\n",
    "**1. Yield Dataset (`yield.csv`):**\n",
    "- **Location**: FAOSTAT [Production_Crops_Livestock_E_All_Data_(Normalized).zip](https://fenixservices.fao.org/faostat/static/bulkdownloads/Production_Crops_Livestock_E_All_Data_(Normalized).zip)\n",
    "- **Format**: CSV\n",
    "- **Important Variables**: `Country`, `Year`, `Yield`\n",
    "- **Number of Records**: 13,547\n",
    "- **Time Period**: 1961-2021\n",
    "\n",
    "**2. Pesticides Dataset (`pest.csv`):**\n",
    "- **Location**: FAOSTAT [Inputs_Pesticides_Use_E_All_Data_(Normalized).zip](https://fenixservices.fao.org/faostat/static/bulkdownloads/Inputs_Pesticides_Use_E_All_Data_(Normalized).zip)\n",
    "- **Format**: CSV\n",
    "- **Important Variables**: `Country`, `Year`, `Pesticides`\n",
    "- **Number of Records**: 112,350\n",
    "- **Time Period**: 1990-2021\n",
    "\n",
    "**3. Rainfall Dataset (`rainfall.csv`):**\n",
    "- **Location**: Kaggle [Crop Yield Prediction Dataset](https://www.kaggle.com/datasets/patelris/crop-yield-prediction-dataset/data)\n",
    "- **Format**: CSV\n",
    "- **Important Variables**: ` Area`, `Year`, `average_rain_fall_mm_per_year`\n",
    "- **Number of Records**: 6,727\n",
    "- **Time Period**: 1985-2017\n",
    "\n",
    "**4. Temperature Dataset (`temp.csv`):**\n",
    "- **Location**: Kaggle [Crop Yield Prediction Dataset](https://www.kaggle.com/datasets/patelris/crop-yield-prediction-dataset/data)\n",
    "- **Format**: CSV\n",
    "- **Important Variables**: `country`, `year`, `avg_temp`\n",
    "- **Number of Records**: 71,311\n",
    "- **Time Period**: 1743-2013"
   ]
  },
  {
   "cell_type": "markdown",
   "id": "74bcc34b-85de-4726-877e-d1cbeb54f294",
   "metadata": {},
   "source": [
    "# Data Manipulation"
   ]
  },
  {
   "cell_type": "markdown",
   "id": "58990a07-2b81-495a-8caa-52a33d8d58b3",
   "metadata": {},
   "source": [
    "# Analysis"
   ]
  },
  {
   "cell_type": "markdown",
   "id": "0bc6607f-e16d-4b37-8f10-8219f63ecd23",
   "metadata": {
    "tags": []
   },
   "source": [
    "# Visualizations"
   ]
  },
  {
   "cell_type": "markdown",
   "id": "67cabbd2-efa5-4867-8280-6f7d9ea65be6",
   "metadata": {},
   "source": [
    "# Statement of Work"
   ]
  },
  {
   "cell_type": "markdown",
   "id": "94985bad-590d-4de7-b5b7-5b58d92c3a50",
   "metadata": {},
   "source": [
    "## References\n",
    "\n",
    "1. Singh, B., & Kaur, J. (2018). Agriculture Development, Pesticide Application and Its Impact on the Environment. *International Journal of Agriculture, Environment and Biotechnology*, 11(1), 1-10.\n",
    "\n",
    "2. Lechenet, M., Bretagnolle, V., & Bockstaller, C. (2017). What Socio-Economic and Political Factors Lead to Global Pesticide Dependence? A Critical Review from a Social Science Perspective. *Environmental Science & Policy*, 76, 54-62.\n",
    "\n",
    "3. What is Sustainable Farming and Best Sustainable Farming Practices? (n.d.). *Conserve Energy Future*. Retrieved from https://www.conserve-energy-future.com/sustainable-farming-practices.php\n",
    "\n",
    "4. Aktar, W., Sengupta, D., & Chowdhury, A. (2009). Impact of pesticides use in agriculture: their benefits and hazards. *Interdisciplinary Toxicology*, 2(1), 1-12.\n",
    "\n",
    "5. Nicolopoulou-Stamati, P., Maipas, S., Kotampasi, C., Stamatis, P., & Hens, L. (2016). The use of pesticides in developing countries and their impact on health and the right to food. *Environmental Science and Pollution Research*, 23(10), 9481-9497."
   ]
  }
 ],
 "metadata": {
  "kernelspec": {
   "display_name": "milestone",
   "language": "python",
   "name": "milestone"
  },
  "language_info": {
   "codemirror_mode": {
    "name": "ipython",
    "version": 3
   },
   "file_extension": ".py",
   "mimetype": "text/x-python",
   "name": "python",
   "nbconvert_exporter": "python",
   "pygments_lexer": "ipython3",
   "version": "3.11.4"
  }
 },
 "nbformat": 4,
 "nbformat_minor": 5
}
